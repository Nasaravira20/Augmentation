{
 "cells": [
  {
   "cell_type": "code",
   "execution_count": 1,
   "metadata": {},
   "outputs": [
    {
     "name": "stdout",
     "output_type": "stream",
     "text": [
      "Index(['mainroad', 'guestroom', 'basement', 'hotwaterheating',\n",
      "       'airconditioning', 'prefarea', 'furnishingstatus'],\n",
      "      dtype='object')\n",
      "   mainroad  guestroom  basement  hotwaterheating  airconditioning  prefarea  \\\n",
      "0         1          0         0                0                1         1   \n",
      "1         1          0         0                0                1         0   \n",
      "2         1          0         1                0                0         1   \n",
      "3         1          0         1                0                1         1   \n",
      "4         1          1         1                0                1         0   \n",
      "\n",
      "   furnishingstatus_furnished  furnishingstatus_semi-furnished  \\\n",
      "0                           1                                0   \n",
      "1                           1                                0   \n",
      "2                           0                                1   \n",
      "3                           1                                0   \n",
      "4                           1                                0   \n",
      "\n",
      "   furnishingstatus_unfurnished  area_standardized  bedrooms_standardized  \\\n",
      "0                             0           1.045766               1.402131   \n",
      "1                             0           1.755397               1.402131   \n",
      "2                             0           2.216196               0.047235   \n",
      "3                             0           1.082630               1.402131   \n",
      "4                             0           1.045766               1.402131   \n",
      "\n",
      "   bathrooms_standardized  stories_standardized  parking_standardized  \n",
      "0                1.420507              1.376952              1.516299  \n",
      "1                5.400847              2.529700              2.676950  \n",
      "2                1.420507              0.224204              1.516299  \n",
      "3                1.420507              0.224204              2.676950  \n",
      "4               -0.569663              0.224204              1.516299  \n",
      "Index(['mainroad', 'guestroom', 'basement', 'hotwaterheating',\n",
      "       'airconditioning', 'prefarea', 'furnishingstatus_furnished',\n",
      "       'furnishingstatus_semi-furnished', 'furnishingstatus_unfurnished',\n",
      "       'area_standardized', 'bedrooms_standardized', 'bathrooms_standardized',\n",
      "       'stories_standardized', 'parking_standardized'],\n",
      "      dtype='object')\n"
     ]
    }
   ],
   "source": [
    "from sklearn.preprocessing import StandardScaler\n",
    "import pandas as pd\n",
    "from sklearn.preprocessing import LabelEncoder\n",
    "import torch\n",
    "from sklearn.model_selection import train_test_split\n",
    "from torch.utils.data import TensorDataset\n",
    "from torch.utils.data import DataLoader\n",
    "\n",
    "data = pd.read_csv(\"/home/mw/.cache/kagglehub/datasets/yasserh/housing-prices-dataset/versions/1/Housing.csv\")\n",
    "data = data.dropna()\n",
    "\n",
    "categorical_columns = data.select_dtypes(include=['object']).columns\n",
    "print(categorical_columns)\n",
    "\n",
    "# Apply one-hot encoding for categorical columns\n",
    "for col in categorical_columns:\n",
    "    if data[col].nunique() <= 2:\n",
    "        data[col] = LabelEncoder().fit_transform(data[col])\n",
    "    else:\n",
    "        one_hot = pd.get_dummies(data[col], prefix=col)\n",
    "        data = pd.concat([data.drop(col, axis=1), one_hot], axis=1)\n",
    "\n",
    "boolean_columns = data.select_dtypes(include='bool').columns\n",
    "data[boolean_columns] = data[boolean_columns].astype(int)\n",
    "\n",
    "numeric_columns = data.select_dtypes(include=['float64']).columns\n",
    "scaler = StandardScaler()\n",
    "# data[numeric_columns] = scaler.fit_transform(data[numeric_columns])\n",
    "\n",
    "# Optionally, standardize target\n",
    "target_column = \"price\"\n",
    "target = data[target_column]\n",
    "target = (target - target.mean()) / target.std()\n",
    "\n",
    "data['area_standardized'] = (data['area'] - data['area'].mean()) / data['area'].std()\n",
    "data['bedrooms_standardized'] = (data['bedrooms'] - data['bedrooms'].mean()) / data['bedrooms'].std()\n",
    "data['bathrooms_standardized'] = (data['bathrooms'] - data['bathrooms'].mean()) / data['bathrooms'].std()\n",
    "data['stories_standardized'] = (data['stories'] - data['stories'].mean()) / data['stories'].std()\n",
    "data['parking_standardized'] = (data['parking'] - data['parking'].mean()) / data['parking'].std()\n",
    "\n",
    "# Remove original columns after standardizing\n",
    "data = data.drop(columns=['area', 'bedrooms', 'bathrooms', 'stories', 'parking', target_column])\n",
    "\n",
    "features = data\n",
    "print(features.head())\n",
    "\n",
    "features_tensor = torch.tensor(features.values, dtype=torch.float32)\n",
    "target_tensor = torch.tensor(target.values, dtype=torch.float32).unsqueeze(1)\n",
    "\n",
    "# Split the data into train and validation sets\n",
    "X_train, X_val, y_train, y_val = train_test_split(features, target, test_size=0.2, random_state=42)\n",
    "\n",
    "# Convert to tensors\n",
    "X_train_tensor = torch.tensor(X_train.values, dtype=torch.float32)\n",
    "y_train_tensor = torch.tensor(y_train.values, dtype=torch.float32).unsqueeze(1)\n",
    "X_val_tensor = torch.tensor(X_val.values, dtype=torch.float32)\n",
    "y_val_tensor = torch.tensor(y_val.values, dtype=torch.float32).unsqueeze(1)\n",
    "\n",
    "train_dataset = TensorDataset(X_train_tensor, y_train_tensor)\n",
    "val_dataset = TensorDataset(X_val_tensor, y_val_tensor)\n",
    "\n",
    "train_loader = DataLoader(train_dataset, batch_size=128, shuffle=True)\n",
    "val_loader = DataLoader(val_dataset, batch_size=128, shuffle=False)\n",
    "print(data.columns)\n"
   ]
  },
  {
   "cell_type": "code",
   "execution_count": 2,
   "metadata": {},
   "outputs": [
    {
     "name": "stdout",
     "output_type": "stream",
     "text": [
      "torch.Size([436, 1])\n"
     ]
    }
   ],
   "source": [
    "print(y_train_tensor.shape)"
   ]
  },
  {
   "cell_type": "code",
   "execution_count": 8,
   "metadata": {},
   "outputs": [],
   "source": [
    "import torch\n",
    "from collections import Counter\n",
    "from sklearn.model_selection import train_test_split\n",
    "\n",
    "# Identify the problematic class\n",
    "class_counts = Counter(target_tensor.numpy().flatten())\n",
    "problematic_class = [k for k, v in class_counts.items() if v < 2]\n",
    "\n",
    "# Filter out samples with the problematic class\n",
    "mask = ~torch.isin(target_tensor, torch.tensor(problematic_class))\n",
    "\n",
    "# Ensure mask is 1D (flatten it if necessary)\n",
    "mask = mask.flatten()\n",
    "\n",
    "filtered_features = features_tensor[mask]\n",
    "filtered_targets = target_tensor[mask]\n",
    "\n",
    "# Use the filtered dataset\n",
    "X_train_tensor, X_val_tensor, y_train_tensor, y_val_tensor = train_test_split(\n",
    "    filtered_features, filtered_targets, test_size=0.3, random_state=42, stratify=filtered_targets\n",
    ")\n"
   ]
  },
  {
   "cell_type": "code",
   "execution_count": 9,
   "metadata": {},
   "outputs": [],
   "source": [
    "import torch\n",
    "import torch.nn as nn\n",
    "import torch.optim as optim\n",
    "\n",
    "class Encoder(nn.Module):\n",
    "    def __init__(self, input_dim, latent_dim, condition_dim):\n",
    "        super(Encoder, self).__init__()\n",
    "        \n",
    "        self.fc1 = nn.Linear(input_dim + condition_dim, 512)\n",
    "        self.fc2 = nn.Linear(512, 256)\n",
    "        self.fc3 = nn.Linear(256, 128)\n",
    "        self.fc_mean = nn.Linear(128, latent_dim)\n",
    "        self.fc_log_var = nn.Linear(128, latent_dim)\n",
    "        self.LeakyRelu = nn.LeakyReLU()\n",
    "        self.dropout = nn.Dropout(p=0.5)\n",
    "\n",
    "    def forward(self, x, condition):\n",
    "        # print(\"x \", x.shape)\n",
    "        x = torch.cat([x, condition], dim=-1)  # Concatenate the condition to the input\n",
    "        # print(\"concat :\",x.shape )\n",
    "        x = self.LeakyRelu(self.fc1(x))\n",
    "        x = self.dropout(self.LeakyRelu(self.fc2(x)))\n",
    "        x = self.LeakyRelu(self.fc3(x))\n",
    "        mean = self.fc_mean(x)\n",
    "        log_var = self.fc_log_var(x)\n",
    "        return mean, log_var"
   ]
  },
  {
   "cell_type": "code",
   "execution_count": 10,
   "metadata": {},
   "outputs": [],
   "source": [
    "class Decoder(nn.Module):\n",
    "    def __init__(self, latent_dim, output_dim, condition_dim):\n",
    "        super(Decoder, self).__init__()\n",
    "        \n",
    "        self.fc1 = nn.Linear(latent_dim + condition_dim, 128)  # Latent + condition\n",
    "        self.fc2 = nn.Linear(128, 256)\n",
    "        self.fc3 = nn.Linear(256, 512)\n",
    "        self.fc_output = nn.Linear(512, output_dim)\n",
    "        self.lrelu = nn.LeakyReLU()\n",
    "        self.sigmoid = nn.Sigmoid()\n",
    "        self.dropout = nn.Dropout(p=0.5)\n",
    "\n",
    "    def forward(self, z, condition):\n",
    "        z = torch.cat([z, condition], dim=-1)  # Concatenate the condition to the latent\n",
    "        z = self.lrelu(self.fc1(z))\n",
    "        z = self.dropout(self.lrelu(self.fc2(z)))\n",
    "        z = self.lrelu(self.fc3(z))\n",
    "        reconstructed_x = self.sigmoid(self.fc_output(z))\n",
    "        return reconstructed_x"
   ]
  },
  {
   "cell_type": "code",
   "execution_count": 11,
   "metadata": {},
   "outputs": [],
   "source": [
    "class VAE(nn.Module):\n",
    "    def __init__(self, input_dim, latent_dim, condition_dim,beta = 0.1):\n",
    "        super(VAE, self).__init__()\n",
    "        self.encoder = Encoder(input_dim, latent_dim, condition_dim)\n",
    "        self.decoder = Decoder(latent_dim, input_dim, condition_dim)\n",
    "        self.beta = nn.Parameter(torch.tensor(1.0))\n",
    "\n",
    "    def forward(self, x, condition):\n",
    "        mu, log_var = self.encoder(x, condition)\n",
    "        z = self.reparameterize(mu, log_var)\n",
    "        reconstructed_x = self.decoder(z, condition)\n",
    "        return reconstructed_x, mu, log_var\n",
    "\n",
    "    @staticmethod\n",
    "    def reparameterize(mu, log_var):\n",
    "        std = torch.exp(0.5 * log_var)\n",
    "        eps = torch.randn_like(std)\n",
    "        return mu + eps * std"
   ]
  },
  {
   "cell_type": "code",
   "execution_count": 12,
   "metadata": {},
   "outputs": [
    {
     "name": "stderr",
     "output_type": "stream",
     "text": [
      "  0%|          | 0/100 [00:00<?, ?it/s]"
     ]
    },
    {
     "name": "stderr",
     "output_type": "stream",
     "text": [
      "  2%|▏         | 2/100 [00:00<00:05, 19.23it/s]"
     ]
    },
    {
     "name": "stdout",
     "output_type": "stream",
     "text": [
      "Epoch [1/100], Loss: 36.4984\n",
      "Epoch [1/100], Train Loss: 36.4984, Val Loss: 16.6373\n",
      "Epoch [2/100], Loss: 16.2405\n",
      "Epoch [2/100], Train Loss: 16.2405, Val Loss: 10.1439\n",
      "Epoch [3/100], Loss: 10.3962\n",
      "Epoch [3/100], Train Loss: 10.3962, Val Loss: 6.3435\n",
      "Epoch [4/100], Loss: 6.6858\n",
      "Epoch [4/100], Train Loss: 6.6858, Val Loss: 3.4334\n",
      "Epoch [5/100], Loss: 4.5413\n"
     ]
    },
    {
     "name": "stderr",
     "output_type": "stream",
     "text": [
      " 11%|█         | 11/100 [00:00<00:01, 57.40it/s]"
     ]
    },
    {
     "name": "stdout",
     "output_type": "stream",
     "text": [
      "Epoch [5/100], Train Loss: 4.5413, Val Loss: 2.3821\n",
      "Epoch [6/100], Loss: 3.1986\n",
      "Epoch [6/100], Train Loss: 3.1986, Val Loss: 1.6772\n",
      "Epoch [7/100], Loss: 2.4601\n",
      "Epoch [7/100], Train Loss: 2.4601, Val Loss: 1.2689\n",
      "Epoch [8/100], Loss: 1.9417\n",
      "Epoch [8/100], Train Loss: 1.9417, Val Loss: 1.0570\n",
      "Epoch [9/100], Loss: 1.6279\n",
      "Epoch [9/100], Train Loss: 1.6279, Val Loss: 0.7855\n",
      "Epoch [10/100], Loss: 1.4107\n",
      "Epoch [10/100], Train Loss: 1.4107, Val Loss: 0.8590\n",
      "Epoch [11/100], Loss: 1.2492\n",
      "Epoch [11/100], Train Loss: 1.2492, Val Loss: 0.6383\n",
      "Epoch [12/100], Loss: 1.0964\n",
      "Epoch [12/100], Train Loss: 1.0964, Val Loss: 0.6843\n",
      "Epoch [13/100], Loss: 1.0179\n",
      "Epoch [13/100], Train Loss: 1.0179, Val Loss: 0.5753\n",
      "Epoch [14/100], Loss: 0.9293\n",
      "Epoch [14/100], Train Loss: 0.9293, Val Loss: 0.5330\n",
      "Epoch [15/100], Loss: 0.8598\n",
      "Epoch [15/100], Train Loss: 0.8598, Val Loss: 0.5448\n",
      "Epoch [16/100], Loss: 0.8169\n",
      "Epoch [16/100], Train Loss: 0.8169, Val Loss: 0.5032\n",
      "Epoch [17/100], Loss: 0.7796\n",
      "Epoch [17/100], Train Loss: 0.7796, Val Loss: 0.5002\n"
     ]
    },
    {
     "name": "stderr",
     "output_type": "stream",
     "text": [
      " 20%|██        | 20/100 [00:00<00:01, 69.39it/s]"
     ]
    },
    {
     "name": "stdout",
     "output_type": "stream",
     "text": [
      "Epoch [18/100], Loss: 0.7542\n",
      "Epoch [18/100], Train Loss: 0.7542, Val Loss: 0.4877\n",
      "Epoch [19/100], Loss: 0.7127\n",
      "Epoch [19/100], Train Loss: 0.7127, Val Loss: 0.4738\n",
      "Epoch [20/100], Loss: 0.6961\n",
      "Epoch [20/100], Train Loss: 0.6961, Val Loss: 0.4623\n",
      "Epoch [21/100], Loss: 0.6816\n"
     ]
    },
    {
     "name": "stderr",
     "output_type": "stream",
     "text": [
      " 28%|██▊       | 28/100 [00:00<00:01, 70.65it/s]"
     ]
    },
    {
     "name": "stdout",
     "output_type": "stream",
     "text": [
      "Epoch [21/100], Train Loss: 0.6816, Val Loss: 0.4521\n",
      "Epoch [22/100], Loss: 0.6699\n",
      "Epoch [22/100], Train Loss: 0.6699, Val Loss: 0.4406\n",
      "Epoch [23/100], Loss: 0.6576\n",
      "Epoch [23/100], Train Loss: 0.6576, Val Loss: 0.4346\n",
      "Epoch [24/100], Loss: 0.6387\n",
      "Epoch [24/100], Train Loss: 0.6387, Val Loss: 0.4308\n",
      "Epoch [25/100], Loss: 0.6301\n",
      "Epoch [25/100], Train Loss: 0.6301, Val Loss: 0.4247\n",
      "Epoch [26/100], Loss: 0.6373\n",
      "Epoch [26/100], Train Loss: 0.6373, Val Loss: 0.4245\n",
      "Epoch [27/100], Loss: 0.6207\n",
      "Epoch [27/100], Train Loss: 0.6207, Val Loss: 0.4227\n",
      "Epoch [28/100], Loss: 0.6271\n",
      "Epoch [28/100], Train Loss: 0.6271, Val Loss: 0.4227\n",
      "Epoch [29/100], Loss: 0.6125\n",
      "Epoch [29/100], Train Loss: 0.6125, Val Loss: 0.4164\n",
      "Epoch [30/100], Loss: 0.6116\n",
      "Epoch [30/100], Train Loss: 0.6116, Val Loss: 0.4169\n",
      "Epoch [31/100], Loss: 0.6106\n"
     ]
    },
    {
     "name": "stderr",
     "output_type": "stream",
     "text": [
      " 28%|██▊       | 28/100 [00:00<00:01, 70.65it/s]"
     ]
    },
    {
     "name": "stdout",
     "output_type": "stream",
     "text": [
      "Epoch [31/100], Train Loss: 0.6106, Val Loss: 0.4159\n",
      "Epoch [32/100], Loss: 0.6181\n",
      "Epoch [32/100], Train Loss: 0.6181, Val Loss: 0.4188\n",
      "Epoch [33/100], Loss: 0.6037\n",
      "Epoch [33/100], Train Loss: 0.6037, Val Loss: 0.4146\n",
      "Epoch [34/100], Loss: 0.6133\n"
     ]
    },
    {
     "name": "stderr",
     "output_type": "stream",
     "text": [
      " 47%|████▋     | 47/100 [00:00<00:00, 78.36it/s]"
     ]
    },
    {
     "name": "stdout",
     "output_type": "stream",
     "text": [
      "Epoch [34/100], Train Loss: 0.6133, Val Loss: 0.4094\n",
      "Epoch [35/100], Loss: 0.6055\n",
      "Epoch [35/100], Train Loss: 0.6055, Val Loss: 0.4081\n",
      "Epoch [36/100], Loss: 0.5981\n",
      "Epoch [36/100], Train Loss: 0.5981, Val Loss: 0.4094\n",
      "Epoch [37/100], Loss: 0.5916\n",
      "Epoch [37/100], Train Loss: 0.5916, Val Loss: 0.4124\n",
      "Epoch [38/100], Loss: 0.5956\n",
      "Epoch [38/100], Train Loss: 0.5956, Val Loss: 0.4093\n",
      "Epoch [39/100], Loss: 0.6046\n",
      "Epoch [39/100], Train Loss: 0.6046, Val Loss: 0.4052\n",
      "Epoch [40/100], Loss: 0.6073\n",
      "Epoch [40/100], Train Loss: 0.6073, Val Loss: 0.4079\n",
      "Epoch [41/100], Loss: 0.6062\n",
      "Epoch [41/100], Train Loss: 0.6062, Val Loss: 0.4001\n",
      "Epoch [42/100], Loss: 0.5943\n",
      "Epoch [42/100], Train Loss: 0.5943, Val Loss: 0.4029\n",
      "Epoch [43/100], Loss: 0.5925\n",
      "Epoch [43/100], Train Loss: 0.5925, Val Loss: 0.4047\n",
      "Epoch [44/100], Loss: 0.6090\n",
      "Epoch [44/100], Train Loss: 0.6090, Val Loss: 0.4039\n",
      "Epoch [45/100], Loss: 0.5879\n",
      "Epoch [45/100], Train Loss: 0.5879, Val Loss: 0.3947\n",
      "Epoch [46/100], Loss: 0.5893\n",
      "Epoch [46/100], Train Loss: 0.5893, Val Loss: 0.3986\n",
      "Epoch [47/100], Loss: 0.6168\n",
      "Epoch [47/100], Train Loss: 0.6168, Val Loss: 0.3996\n",
      "Epoch [48/100], Loss: 0.5908\n",
      "Epoch [48/100], Train Loss: 0.5908, Val Loss: 0.3985\n",
      "Epoch [49/100], Loss: 0.6093\n",
      "Epoch [49/100], Train Loss: 0.6093, Val Loss: 0.3977\n",
      "Epoch [50/100], Loss: 0.5915\n",
      "Epoch [50/100], Train Loss: 0.5915, Val Loss: 0.3927\n"
     ]
    },
    {
     "name": "stderr",
     "output_type": "stream",
     "text": [
      " 47%|████▋     | 47/100 [00:00<00:00, 78.36it/s]"
     ]
    },
    {
     "name": "stdout",
     "output_type": "stream",
     "text": [
      "Epoch [51/100], Loss: 0.5945\n",
      "Epoch [51/100], Train Loss: 0.5945, Val Loss: 0.3906\n",
      "Epoch [52/100], Loss: 0.5931\n",
      "Epoch [52/100], Train Loss: 0.5931, Val Loss: 0.3841\n",
      "Epoch [53/100], Loss: 0.5756\n",
      "Epoch [53/100], Train Loss: 0.5756, Val Loss: 0.3944\n",
      "Epoch [54/100], Loss: 0.5839\n",
      "Epoch [54/100], Train Loss: 0.5839, Val Loss: 0.3933\n",
      "Epoch [55/100], Loss: 0.5839\n"
     ]
    },
    {
     "name": "stderr",
     "output_type": "stream",
     "text": [
      " 67%|██████▋   | 67/100 [00:00<00:00, 82.86it/s]"
     ]
    },
    {
     "name": "stdout",
     "output_type": "stream",
     "text": [
      "Epoch [55/100], Train Loss: 0.5839, Val Loss: 0.3859\n",
      "Epoch [56/100], Loss: 0.5910\n",
      "Epoch [56/100], Train Loss: 0.5910, Val Loss: 0.3881\n",
      "Epoch [57/100], Loss: 0.5803\n",
      "Epoch [57/100], Train Loss: 0.5803, Val Loss: 0.3850\n",
      "Epoch [58/100], Loss: 0.5802\n",
      "Epoch [58/100], Train Loss: 0.5802, Val Loss: 0.3804\n",
      "Epoch [59/100], Loss: 0.5721\n",
      "Epoch [59/100], Train Loss: 0.5721, Val Loss: 0.3786\n",
      "Epoch [60/100], Loss: 0.5789\n",
      "Epoch [60/100], Train Loss: 0.5789, Val Loss: 0.3715\n",
      "Epoch [61/100], Loss: 0.5749\n",
      "Epoch [61/100], Train Loss: 0.5749, Val Loss: 0.3694\n",
      "Epoch [62/100], Loss: 0.5828\n",
      "Epoch [62/100], Train Loss: 0.5828, Val Loss: 0.3721\n",
      "Epoch [63/100], Loss: 0.5767\n",
      "Epoch [63/100], Train Loss: 0.5767, Val Loss: 0.3657\n",
      "Epoch [64/100], Loss: 0.5845\n",
      "Epoch [64/100], Train Loss: 0.5845, Val Loss: 0.3782\n",
      "Epoch [65/100], Loss: 0.5800\n",
      "Epoch [65/100], Train Loss: 0.5800, Val Loss: 0.3702\n",
      "Epoch [66/100], Loss: 0.5832\n",
      "Epoch [66/100], Train Loss: 0.5832, Val Loss: 0.3647\n",
      "Epoch [67/100], Loss: 0.5765\n",
      "Epoch [67/100], Train Loss: 0.5765, Val Loss: 0.3636\n"
     ]
    },
    {
     "name": "stderr",
     "output_type": "stream",
     "text": [
      " 67%|██████▋   | 67/100 [00:00<00:00, 82.86it/s]"
     ]
    },
    {
     "name": "stdout",
     "output_type": "stream",
     "text": [
      "Epoch [68/100], Loss: 0.5686\n",
      "Epoch [68/100], Train Loss: 0.5686, Val Loss: 0.3591\n",
      "Epoch [69/100], Loss: 0.5756\n",
      "Epoch [69/100], Train Loss: 0.5756, Val Loss: 0.3727\n",
      "Epoch [70/100], Loss: 0.5689\n",
      "Epoch [70/100], Train Loss: 0.5689, Val Loss: 0.3568\n",
      "Epoch [71/100], Loss: 0.5764\n",
      "Epoch [71/100], Train Loss: 0.5764, Val Loss: 0.3664\n"
     ]
    },
    {
     "name": "stderr",
     "output_type": "stream",
     "text": [
      " 76%|███████▌  | 76/100 [00:01<00:00, 80.20it/s]"
     ]
    },
    {
     "name": "stdout",
     "output_type": "stream",
     "text": [
      "Epoch [72/100], Loss: 0.5696\n",
      "Epoch [72/100], Train Loss: 0.5696, Val Loss: 0.3515\n",
      "Epoch [73/100], Loss: 0.5741\n",
      "Epoch [73/100], Train Loss: 0.5741, Val Loss: 0.3577\n",
      "Epoch [74/100], Loss: 0.5739\n",
      "Epoch [74/100], Train Loss: 0.5739, Val Loss: 0.3639\n",
      "Epoch [75/100], Loss: 0.5763\n",
      "Epoch [75/100], Train Loss: 0.5763, Val Loss: 0.3577\n",
      "Epoch [76/100], Loss: 0.5634\n",
      "Epoch [76/100], Train Loss: 0.5634, Val Loss: 0.3576\n",
      "Epoch [77/100], Loss: 0.5609\n",
      "Epoch [77/100], Train Loss: 0.5609, Val Loss: 0.3547\n",
      "Epoch [78/100], Loss: 0.5755\n",
      "Epoch [78/100], Train Loss: 0.5755, Val Loss: 0.3642\n",
      "Epoch [79/100], Loss: 0.5584\n",
      "Epoch [79/100], Train Loss: 0.5584, Val Loss: 0.3566\n",
      "Epoch [80/100], Loss: 0.5702\n",
      "Epoch [80/100], Train Loss: 0.5702, Val Loss: 0.3654\n",
      "Epoch [81/100], Loss: 0.5681\n",
      "Epoch [81/100], Train Loss: 0.5681, Val Loss: 0.3674\n",
      "Epoch [82/100], Loss: 0.5623\n",
      "Epoch [82/100], Train Loss: 0.5623, Val Loss: 0.3638\n",
      "Epoch [83/100], Loss: 0.5725\n",
      "Epoch [83/100], Train Loss: 0.5725, Val Loss: 0.3578\n",
      "Epoch [84/100], Loss: 0.5694\n",
      "Epoch [84/100], Train Loss: 0.5694, Val Loss: 0.3692\n",
      "Epoch [85/100], Loss: 0.5802\n",
      "Epoch [85/100], Train Loss: 0.5802, Val Loss: 0.3583\n"
     ]
    },
    {
     "name": "stderr",
     "output_type": "stream",
     "text": [
      " 86%|████████▌ | 86/100 [00:01<00:00, 85.03it/s]"
     ]
    },
    {
     "name": "stdout",
     "output_type": "stream",
     "text": [
      "Epoch [86/100], Loss: 0.5637\n",
      "Epoch [86/100], Train Loss: 0.5637, Val Loss: 0.3478\n",
      "Epoch [87/100], Loss: 0.5676\n",
      "Epoch [87/100], Train Loss: 0.5676, Val Loss: 0.3523\n",
      "Epoch [88/100], Loss: 0.5674\n",
      "Epoch [88/100], Train Loss: 0.5674, Val Loss: 0.3692\n",
      "Epoch [89/100], Loss: 0.5622\n",
      "Epoch [89/100], Train Loss: 0.5622, Val Loss: 0.3624\n"
     ]
    },
    {
     "name": "stderr",
     "output_type": "stream",
     "text": [
      "100%|██████████| 100/100 [00:01<00:00, 76.74it/s]\n"
     ]
    },
    {
     "name": "stdout",
     "output_type": "stream",
     "text": [
      "Epoch [90/100], Loss: 0.5623\n",
      "Epoch [90/100], Train Loss: 0.5623, Val Loss: 0.3527\n",
      "Epoch [91/100], Loss: 0.5648\n",
      "Epoch [91/100], Train Loss: 0.5648, Val Loss: 0.3694\n",
      "Epoch [92/100], Loss: 0.5579\n",
      "Epoch [92/100], Train Loss: 0.5579, Val Loss: 0.3596\n",
      "Epoch [93/100], Loss: 0.5625\n",
      "Epoch [93/100], Train Loss: 0.5625, Val Loss: 0.3640\n",
      "Epoch [94/100], Loss: 0.5669\n",
      "Epoch [94/100], Train Loss: 0.5669, Val Loss: 0.3635\n",
      "Epoch [95/100], Loss: 0.5546\n",
      "Epoch [95/100], Train Loss: 0.5546, Val Loss: 0.3592\n",
      "Epoch [96/100], Loss: 0.5595\n",
      "Epoch [96/100], Train Loss: 0.5595, Val Loss: 0.3723\n",
      "Epoch [97/100], Loss: 0.5769\n",
      "Epoch [97/100], Train Loss: 0.5769, Val Loss: 0.3602\n",
      "Epoch [98/100], Loss: 0.5662\n",
      "Epoch [98/100], Train Loss: 0.5662, Val Loss: 0.3712\n",
      "Epoch [99/100], Loss: 0.5633\n",
      "Epoch [99/100], Train Loss: 0.5633, Val Loss: 0.3627\n",
      "Epoch [100/100], Loss: 0.5690\n",
      "Epoch [100/100], Train Loss: 0.5690, Val Loss: 0.3660\n"
     ]
    },
    {
     "data": {
      "image/png": "[encoded data removed]",
      "text/plain": [
       "<Figure size 1000x600 with 1 Axes>"
      ]
     },
     "metadata": {},
     "output_type": "display_data"
    }
   ],
   "source": [
    "import torch\n",
    "import torch.optim as optim\n",
    "import torch.nn as nn\n",
    "from torch.utils.data import DataLoader, TensorDataset\n",
    "from tqdm import tqdm\n",
    "import matplotlib.pyplot as plt\n",
    "\n",
    "# Assuming `features_tensor` and `target_tensor` are prepared and available\n",
    "condition_dim = y_train_tensor.shape[1]  # Example: number of classes or other categorical input\n",
    "input_dim = features_tensor.shape[1]\n",
    "latent_dim = 100\n",
    "beta = 0.4\n",
    "\n",
    "# Define the VAE model (ensure that your model can handle `condition_dim` as input)\n",
    "vae = VAE(input_dim, latent_dim, condition_dim)\n",
    "device = torch.device(\"cuda\" if torch.cuda.is_available() else \"cpu\")\n",
    "vae.to(device)\n",
    "\n",
    "optimizer = optim.Adam(vae.parameters(), lr=1e-3, weight_decay=1e-5)\n",
    "reconstruction_loss_fn1 = nn.MSELoss(reduction=\"mean\")\n",
    "reconstruction_loss_fn2 = nn.L1Loss(reduction='mean')\n",
    "reconstruction_loss_fn = nn.SmoothL1Loss(reduction='mean')\n",
    "\n",
    "# Define the VAE loss function\n",
    "def vae_loss(reconstructed_x, x, mu, log_var, beta=1.0):\n",
    "    reconstruction_loss = reconstruction_loss_fn(reconstructed_x, x)\n",
    "    kl_divergence = -0.5 * torch.sum(1 + log_var - mu.pow(2) - log_var.exp())\n",
    "    return reconstruction_loss + beta * kl_divergence  # Apply beta scaling\n",
    "\n",
    "\n",
    "\n",
    "\n",
    "# Convert to TensorDataset\n",
    "train_dataset = TensorDataset(X_train_tensor, y_train_tensor)\n",
    "val_dataset = TensorDataset(X_val_tensor, y_val_tensor)\n",
    "\n",
    "train_loader = DataLoader(train_dataset, batch_size=128, shuffle=True)\n",
    "val_loader = DataLoader(val_dataset, batch_size=128, shuffle=False)\n",
    "\n",
    "# Training loop\n",
    "num_epochs = 100  # Adjust epochs for demonstration\n",
    "train_losses = []\n",
    "val_losses = []\n",
    "\n",
    "\n",
    "patience = 10  # Number of epochs without improvement before stopping\n",
    "best_loss = float('inf')  # Initialize the best loss to infinity\n",
    "epochs_without_improvement = 0 \n",
    "\n",
    "for epoch in tqdm(range(num_epochs)):\n",
    "    # Training phase\n",
    "    vae.train()\n",
    "    epoch_train_loss = 0\n",
    "    for batch in train_loader:\n",
    "        features, conditions = batch\n",
    "        features = features.to(device)\n",
    "        conditions = conditions.to(device)\n",
    "        reconstructed_x, mu, log_var = vae(features, conditions)\n",
    "\n",
    "        loss = vae_loss(reconstructed_x, features, mu, log_var, beta)\n",
    "        epoch_train_loss += loss.item()\n",
    "\n",
    "        optimizer.zero_grad()\n",
    "        loss.backward()\n",
    "        optimizer.step()\n",
    "\n",
    "    train_losses.append(epoch_train_loss)\n",
    "    if epoch_train_loss < best_loss:\n",
    "        best_loss = epoch_train_loss\n",
    "        epochs_without_improvement = 0  # Reset counter\n",
    "        # Save model checkpoint when there's an improvement\n",
    "        torch.save(vae.state_dict(), \"best_vae_lrelu_model.pth\")\n",
    "    else:\n",
    "        epochs_without_improvement += 1\n",
    "\n",
    "    print(f\"Epoch [{epoch + 1}/{num_epochs}], Loss: {epoch_train_loss:.4f}\")\n",
    "\n",
    "    # Validation phase\n",
    "    vae.eval()\n",
    "    epoch_val_loss = 0\n",
    "    with torch.no_grad():\n",
    "        for batch in val_loader:\n",
    "            features, conditions = batch\n",
    "            features = features.to(device)\n",
    "            conditions = conditions.to(device)\n",
    "            reconstructed_x, mu, log_var = vae(features, conditions)\n",
    "\n",
    "            loss = vae_loss(reconstructed_x, features, mu, log_var)\n",
    "            epoch_val_loss += loss.item()\n",
    "\n",
    "    val_losses.append(epoch_val_loss)\n",
    "\n",
    "    tqdm.write(f\"Epoch [{epoch + 1}/{num_epochs}], Train Loss: {epoch_train_loss:.4f}, Val Loss: {epoch_val_loss:.4f}\")\n",
    "\n",
    "# Plotting training and validation losses\n",
    "plt.figure(figsize=(10, 6))\n",
    "plt.plot(range(1, num_epochs + 1), train_losses, label='Train Loss', marker='o')\n",
    "plt.plot(range(1, num_epochs + 1), val_losses, label='Validation Loss', marker='x')\n",
    "plt.xlabel('Epochs')\n",
    "plt.ylabel('Loss')\n",
    "plt.title('Training and Validation Loss Over Epochs')\n",
    "plt.legend()\n",
    "plt.grid(True)\n",
    "plt.show()\n"
   ]
  },
  {
   "cell_type": "code",
   "execution_count": 13,
   "metadata": {},
   "outputs": [
    {
     "name": "stderr",
     "output_type": "stream",
     "text": [
      "/tmp/ipykernel_347164/585296845.py:5: FutureWarning: You are using `torch.load` with `weights_only=False` (the current default value), which uses the default pickle module implicitly. It is possible to construct malicious pickle data which will execute arbitrary code during unpickling (See https://github.com/pytorch/pytorch/blob/main/SECURITY.md#untrusted-models for more details). In a future release, the default value for `weights_only` will be flipped to `True`. This limits the functions that could be executed during unpickling. Arbitrary objects will no longer be allowed to be loaded via this mode unless they are explicitly allowlisted by the user via `torch.serialization.add_safe_globals`. We recommend you start setting `weights_only=True` for any use case where you don't have full control of the loaded file. Please open an issue on GitHub for any issues related to this experimental feature.\n",
      "  vae.load_state_dict(torch.load(\"best_vae_lrelu_model.pth\"))\n"
     ]
    },
    {
     "data": {
      "text/plain": [
       "VAE(\n",
       "  (encoder): Encoder(\n",
       "    (fc1): Linear(in_features=15, out_features=512, bias=True)\n",
       "    (fc2): Linear(in_features=512, out_features=256, bias=True)\n",
       "    (fc3): Linear(in_features=256, out_features=128, bias=True)\n",
       "    (fc_mean): Linear(in_features=128, out_features=100, bias=True)\n",
       "    (fc_log_var): Linear(in_features=128, out_features=100, bias=True)\n",
       "    (LeakyRelu): LeakyReLU(negative_slope=0.01)\n",
       "    (dropout): Dropout(p=0.5, inplace=False)\n",
       "  )\n",
       "  (decoder): Decoder(\n",
       "    (fc1): Linear(in_features=101, out_features=128, bias=True)\n",
       "    (fc2): Linear(in_features=128, out_features=256, bias=True)\n",
       "    (fc3): Linear(in_features=256, out_features=512, bias=True)\n",
       "    (fc_output): Linear(in_features=512, out_features=14, bias=True)\n",
       "    (lrelu): LeakyReLU(negative_slope=0.01)\n",
       "    (sigmoid): Sigmoid()\n",
       "    (dropout): Dropout(p=0.5, inplace=False)\n",
       "  )\n",
       ")"
      ]
     },
     "execution_count": 13,
     "metadata": {},
     "output_type": "execute_result"
    }
   ],
   "source": [
    "import torch\n",
    "\n",
    "# Reinitialize the VAE with the same architecture as used during training\n",
    "vae = VAE(input_dim, latent_dim, condition_dim)  # Ensure these dimensions match your training setup\n",
    "vae.load_state_dict(torch.load(\"best_vae_lrelu_model.pth\"))\n",
    "vae.eval()  # Set the model to evaluation mode\n",
    "vae.to(device)  "
   ]
  },
  {
   "cell_type": "code",
   "execution_count": 14,
   "metadata": {},
   "outputs": [],
   "source": [
    "import torch\n",
    "\n",
    "# Number of samples to generate\n",
    "num_samples = 1000\n",
    "\n",
    "# Sample from a standard normal distribution (mean=0, std=1) in the latent space\n",
    "z = torch.randn(num_samples, latent_dim).to(device)\n",
    "\n",
    "# Provide conditional input if the model is conditional (e.g., class labels, other inputs)\n",
    "# Replace `condition_tensor` with appropriate conditional data for your problem\n",
    "conditions = torch.randint(0, condition_dim, (num_samples,)).to(device)  # Example: random class labels\n",
    "conditions = torch.nn.functional.one_hot(conditions, num_classes=condition_dim).float()  # One-hot encode if needed\n",
    "\n",
    "# Generate synthetic data\n",
    "with torch.no_grad():\n",
    "    # vae.  # Disable gradient computation\n",
    "    generated_data = vae.decoder(z, conditions)  # Use the decoder to generate data\n"
   ]
  },
  {
   "cell_type": "code",
   "execution_count": 15,
   "metadata": {},
   "outputs": [
    {
     "name": "stdout",
     "output_type": "stream",
     "text": [
      "0     1.0\n",
      "1     1.0\n",
      "2     1.0\n",
      "3     1.0\n",
      "4     1.0\n",
      "     ... \n",
      "95    0.0\n",
      "96    1.0\n",
      "97    1.0\n",
      "98    1.0\n",
      "99    1.0\n",
      "Name: Feature_0, Length: 100, dtype: float32\n"
     ]
    },
    {
     "data": {
      "image/png": "[encoded data removed]",
      "text/plain": [
       "<Figure size 1000x600 with 1 Axes>"
      ]
     },
     "metadata": {},
     "output_type": "display_data"
    },
    {
     "data": {
      "image/png": "[encoded data removed]",
      "text/plain": [
       "<Figure size 1000x600 with 1 Axes>"
      ]
     },
     "metadata": {},
     "output_type": "display_data"
    }
   ],
   "source": [
    "import matplotlib.pyplot as plt\n",
    "import seaborn as sns\n",
    "import pandas as pd\n",
    "\n",
    "# Assuming you have real data (X_real) and generated data (X_generated) as NumPy arrays\n",
    "X_real_np = X_train_tensor.cpu().numpy()[:100]  # Sample 100 real data points\n",
    "X_generated_np = generated_data.cpu().numpy()[:100]  # Sample 100 generated data points\n",
    "\n",
    "# Convert to pandas DataFrame for easier plotting\n",
    "real_df = pd.DataFrame(X_real_np, columns=[f\"Feature_{i}\" for i in range(X_real_np.shape[1])])\n",
    "gen_df = pd.DataFrame(X_generated_np, columns=[f\"Feature_{i}\" for i in range(X_generated_np.shape[1])])\n",
    "\n",
    "# Plot the distributions of a single feature for both real and generated data\n",
    "feature_idx = 3  # Change this to plot a specific feature\n",
    "print(real_df[f\"Feature_0\"])\n",
    "plt.figure(figsize=(10, 6))\n",
    "sns.kdeplot(real_df[f\"Feature_{feature_idx}\"], label=\"Real Data\", color=\"blue\", fill=True, alpha=0.5)\n",
    "sns.kdeplot(gen_df[f\"Feature_{feature_idx}\"], label=\"Generated Data\", color=\"orange\", fill=True, alpha=0.5)\n",
    "plt.title(f\"Feature {feature_idx}: Real vs Generated Data Distribution\")\n",
    "plt.xlabel(\"Value\")\n",
    "plt.ylabel(\"Density\")\n",
    "plt.legend()\n",
    "plt.show()\n",
    "\n",
    "# Alternatively, scatter plot for two features\n",
    "plt.figure(figsize=(10, 6))\n",
    "plt.scatter(real_df[f\"Feature_0\"], real_df[f\"Feature_1\"], label=\"Real Data\", color=\"blue\", alpha=0.5)\n",
    "plt.scatter(gen_df[f\"Feature_0\"], gen_df[f\"Feature_1\"], label=\"Generated Data\", color=\"orange\", alpha=0.5)\n",
    "plt.title(\"Scatter Plot: Real vs Generated Data\")\n",
    "plt.xlabel(\"Feature 0\")\n",
    "plt.ylabel(\"Feature 1\")\n",
    "plt.legend()\n",
    "plt.show()\n"
   ]
  },
  {
   "cell_type": "code",
   "execution_count": 16,
   "metadata": {},
   "outputs": [
    {
     "name": "stdout",
     "output_type": "stream",
     "text": [
      "Reconstruction Loss (MSE): 0.5316526889801025\n"
     ]
    }
   ],
   "source": [
    "from torch.nn.functional import mse_loss\n",
    "device = generated_data.device\n",
    "loss = mse_loss(generated_data[:100].to(device), X_train_tensor[:100].to(device),reduction='mean')\n",
    "print(f\"Reconstruction Loss (MSE): {loss.item()}\")"
   ]
  },
  {
   "cell_type": "code",
   "execution_count": null,
   "metadata": {},
   "outputs": [],
   "source": []
  }
 ],
 "metadata": {
  "kernelspec": {
   "display_name": "sih",
   "language": "python",
   "name": "python3"
  },
  "language_info": {
   "codemirror_mode": {
    "name": "ipython",
    "version": 3
   },
   "file_extension": ".py",
   "mimetype": "text/x-python",
   "name": "python",
   "nbconvert_exporter": "python",
   "pygments_lexer": "ipython3",
   "version": "3.12.7"
  }
 },
 "nbformat": 4,
 "nbformat_minor": 2
}
