{
 "cells": [
  {
   "cell_type": "code",
   "execution_count": 1,
   "metadata": {},
   "outputs": [
    {
     "name": "stdout",
     "output_type": "stream",
     "text": [
      "Index(['mainroad', 'guestroom', 'basement', 'hotwaterheating',\n",
      "       'airconditioning', 'prefarea', 'furnishingstatus'],\n",
      "      dtype='object')\n",
      "   mainroad  guestroom  basement  hotwaterheating  airconditioning  prefarea  \\\n",
      "0         1          0         0                0                1         1   \n",
      "1         1          0         0                0                1         0   \n",
      "2         1          0         1                0                0         1   \n",
      "3         1          0         1                0                1         1   \n",
      "4         1          1         1                0                1         0   \n",
      "\n",
      "   furnishingstatus_furnished  furnishingstatus_semi-furnished  \\\n",
      "0                           1                                0   \n",
      "1                           1                                0   \n",
      "2                           0                                1   \n",
      "3                           1                                0   \n",
      "4                           1                                0   \n",
      "\n",
      "   furnishingstatus_unfurnished  area_standardized  bedrooms_standardized  \\\n",
      "0                             0           1.045766               1.402131   \n",
      "1                             0           1.755397               1.402131   \n",
      "2                             0           2.216196               0.047235   \n",
      "3                             0           1.082630               1.402131   \n",
      "4                             0           1.045766               1.402131   \n",
      "\n",
      "   bathrooms_standardized  stories_standardized  parking_standardized  \n",
      "0                1.420507              1.376952              1.516299  \n",
      "1                5.400847              2.529700              2.676950  \n",
      "2                1.420507              0.224204              1.516299  \n",
      "3                1.420507              0.224204              2.676950  \n",
      "4               -0.569663              0.224204              1.516299  \n",
      "Index(['mainroad', 'guestroom', 'basement', 'hotwaterheating',\n",
      "       'airconditioning', 'prefarea', 'furnishingstatus_furnished',\n",
      "       'furnishingstatus_semi-furnished', 'furnishingstatus_unfurnished',\n",
      "       'area_standardized', 'bedrooms_standardized', 'bathrooms_standardized',\n",
      "       'stories_standardized', 'parking_standardized'],\n",
      "      dtype='object')\n"
     ]
    }
   ],
   "source": [
    "from sklearn.preprocessing import StandardScaler\n",
    "import pandas as pd\n",
    "from sklearn.preprocessing import LabelEncoder\n",
    "import torch\n",
    "from sklearn.model_selection import train_test_split\n",
    "from torch.utils.data import TensorDataset\n",
    "from torch.utils.data import DataLoader\n",
    "\n",
    "data = pd.read_csv(\"/home/mw/.cache/kagglehub/datasets/yasserh/housing-prices-dataset/versions/1/Housing.csv\")\n",
    "data = data.dropna()\n",
    "\n",
    "categorical_columns = data.select_dtypes(include=['object']).columns\n",
    "print(categorical_columns)\n",
    "\n",
    "# Apply one-hot encoding for categorical columns\n",
    "for col in categorical_columns:\n",
    "    if data[col].nunique() <= 2:\n",
    "        data[col] = LabelEncoder().fit_transform(data[col])\n",
    "    else:\n",
    "        one_hot = pd.get_dummies(data[col], prefix=col)\n",
    "        data = pd.concat([data.drop(col, axis=1), one_hot], axis=1)\n",
    "\n",
    "boolean_columns = data.select_dtypes(include='bool').columns\n",
    "data[boolean_columns] = data[boolean_columns].astype(int)\n",
    "\n",
    "numeric_columns = data.select_dtypes(include=['float64']).columns\n",
    "scaler = StandardScaler()\n",
    "# data[numeric_columns] = scaler.fit_transform(data[numeric_columns])\n",
    "\n",
    "# Optionally, standardize target\n",
    "target_column = \"price\"\n",
    "target = data[target_column]\n",
    "target = (target - target.mean()) / target.std()\n",
    "\n",
    "data['area_standardized'] = (data['area'] - data['area'].mean()) / data['area'].std()\n",
    "data['bedrooms_standardized'] = (data['bedrooms'] - data['bedrooms'].mean()) / data['bedrooms'].std()\n",
    "data['bathrooms_standardized'] = (data['bathrooms'] - data['bathrooms'].mean()) / data['bathrooms'].std()\n",
    "data['stories_standardized'] = (data['stories'] - data['stories'].mean()) / data['stories'].std()\n",
    "data['parking_standardized'] = (data['parking'] - data['parking'].mean()) / data['parking'].std()\n",
    "\n",
    "# Remove original columns after standardizing\n",
    "data = data.drop(columns=['area', 'bedrooms', 'bathrooms', 'stories', 'parking', target_column])\n",
    "\n",
    "features = data\n",
    "print(features.head())\n",
    "\n",
    "features_tensor = torch.tensor(features.values, dtype=torch.float32)\n",
    "target_tensor = torch.tensor(target.values, dtype=torch.float32).unsqueeze(1)\n",
    "\n",
    "# Split the data into train and validation sets\n",
    "X_train, X_val, y_train, y_val = train_test_split(features, target, test_size=0.2, random_state=42)\n",
    "\n",
    "# Convert to tensors\n",
    "X_train_tensor = torch.tensor(X_train.values, dtype=torch.float32)\n",
    "y_train_tensor = torch.tensor(y_train.values, dtype=torch.float32).unsqueeze(1)\n",
    "X_val_tensor = torch.tensor(X_val.values, dtype=torch.float32)\n",
    "y_val_tensor = torch.tensor(y_val.values, dtype=torch.float32).unsqueeze(1)\n",
    "\n",
    "train_dataset = TensorDataset(X_train_tensor, y_train_tensor)\n",
    "val_dataset = TensorDataset(X_val_tensor, y_val_tensor)\n",
    "\n",
    "train_loader = DataLoader(train_dataset, batch_size=128, shuffle=True)\n",
    "val_loader = DataLoader(val_dataset, batch_size=128, shuffle=False)\n",
    "print(data.columns)\n"
   ]
  },
  {
   "cell_type": "code",
   "execution_count": 2,
   "metadata": {},
   "outputs": [],
   "source": [
    "import torch\n",
    "from collections import Counter\n",
    "from sklearn.model_selection import train_test_split\n",
    "\n",
    "# Identify the problematic class\n",
    "class_counts = Counter(target_tensor.numpy().flatten())\n",
    "problematic_class = [k for k, v in class_counts.items() if v < 2]\n",
    "\n",
    "# Filter out samples with the problematic class\n",
    "mask = ~torch.isin(target_tensor, torch.tensor(problematic_class))\n",
    "\n",
    "# Ensure mask is 1D (flatten it if necessary)\n",
    "mask = mask.flatten()\n",
    "\n",
    "filtered_features = features_tensor[mask]\n",
    "filtered_targets = target_tensor[mask]\n",
    "\n",
    "# Use the filtered dataset\n",
    "X_train_tensor, X_val_tensor, y_train_tensor, y_val_tensor = train_test_split(\n",
    "    filtered_features, filtered_targets, test_size=0.3, random_state=42, stratify=filtered_targets\n",
    ")\n"
   ]
  },
  {
   "cell_type": "code",
   "execution_count": 3,
   "metadata": {},
   "outputs": [],
   "source": [
    "import torch\n",
    "import torch.nn as nn\n",
    "import torch.optim as optim\n",
    "\n",
    "class Encoder(nn.Module):\n",
    "    def __init__(self, input_dim, latent_dim, condition_dim):\n",
    "        super(Encoder, self).__init__()\n",
    "        \n",
    "        self.fc1 = nn.Linear(input_dim + condition_dim, 512)\n",
    "        self.fc2 = nn.Linear(512, 256)\n",
    "        self.fc3 = nn.Linear(256, 128)\n",
    "        self.fc_mean = nn.Linear(128, latent_dim)\n",
    "        self.fc_log_var = nn.Linear(128, latent_dim)\n",
    "        self.LeakyRelu = nn.LeakyReLU()\n",
    "        self.dropout = nn.Dropout(p=0.3)\n",
    "\n",
    "    def forward(self, x, condition):\n",
    "        # print(\"x \", x.shape)\n",
    "        x = torch.cat([x, condition], dim=-1)  # Concatenate the condition to the input\n",
    "        # print(\"concat :\",x.shape )\n",
    "        x = self.LeakyRelu(self.fc1(x))\n",
    "        x = self.dropout(self.LeakyRelu(self.fc2(x)))\n",
    "        x = self.LeakyRelu(self.fc3(x))\n",
    "        mean = self.fc_mean(x)\n",
    "        log_var = self.fc_log_var(x)\n",
    "        return mean, log_var"
   ]
  },
  {
   "cell_type": "code",
   "execution_count": 4,
   "metadata": {},
   "outputs": [],
   "source": [
    "class Decoder(nn.Module):\n",
    "    def __init__(self, latent_dim, output_dim, condition_dim):\n",
    "        super(Decoder, self).__init__()\n",
    "        \n",
    "        self.fc1 = nn.Linear(latent_dim + condition_dim, 128)  # Latent + condition\n",
    "        self.fc2 = nn.Linear(128, 256)\n",
    "        self.fc3 = nn.Linear(256, 512)\n",
    "        self.fc_output = nn.Linear(512, output_dim)\n",
    "        self.lrelu = nn.LeakyReLU()\n",
    "        self.sigmoid = nn.Sigmoid()\n",
    "        self.dropout = nn.Dropout(p=0.3)\n",
    "\n",
    "    def forward(self, z, condition):\n",
    "        z = torch.cat([z, condition], dim=-1)  # Concatenate the condition to the latent\n",
    "        z = self.lrelu(self.fc1(z))\n",
    "        z = self.dropout(self.lrelu(self.fc2(z)))\n",
    "        z = self.lrelu(self.fc3(z))\n",
    "        reconstructed_x = self.sigmoid(self.fc_output(z))\n",
    "        return reconstructed_x"
   ]
  },
  {
   "cell_type": "code",
   "execution_count": 5,
   "metadata": {},
   "outputs": [],
   "source": [
    "class VAE(nn.Module):\n",
    "    def __init__(self, input_dim, latent_dim, condition_dim,beta = 0.1):\n",
    "        super(VAE, self).__init__()\n",
    "        self.encoder = Encoder(input_dim, latent_dim, condition_dim)\n",
    "        self.decoder = Decoder(latent_dim, input_dim, condition_dim)\n",
    "        self.beta = nn.Parameter(torch.tensor(1.0))\n",
    "\n",
    "    def forward(self, x, condition):\n",
    "        mu, log_var = self.encoder(x, condition)\n",
    "        z = self.reparameterize(mu, log_var)\n",
    "        reconstructed_x = self.decoder(z, condition)\n",
    "        return reconstructed_x, mu, log_var\n",
    "\n",
    "    @staticmethod\n",
    "    def reparameterize(mu, log_var):\n",
    "        std = torch.exp(0.5 * log_var)\n",
    "        eps = torch.randn_like(std)\n",
    "        return mu + eps * std"
   ]
  },
  {
   "cell_type": "code",
   "execution_count": 6,
   "metadata": {},
   "outputs": [
    {
     "name": "stderr",
     "output_type": "stream",
     "text": [
      "  9%|▉         | 9/100 [00:00<00:04, 20.65it/s]"
     ]
    },
    {
     "name": "stdout",
     "output_type": "stream",
     "text": [
      "Epoch [1/100], Loss: 30.4213\n",
      "Epoch [1/100], Train Loss: 30.4213, Val Loss: 17.5993\n",
      "Epoch [2/100], Loss: 16.1968\n",
      "Epoch [2/100], Train Loss: 16.1968, Val Loss: 11.2543\n",
      "Epoch [3/100], Loss: 10.9517\n",
      "Epoch [3/100], Train Loss: 10.9517, Val Loss: 6.8960\n",
      "Epoch [4/100], Loss: 7.3802\n",
      "Epoch [4/100], Train Loss: 7.3802, Val Loss: 4.0151\n",
      "Epoch [5/100], Loss: 4.9279\n",
      "Epoch [5/100], Train Loss: 4.9279, Val Loss: 2.8435\n",
      "Epoch [6/100], Loss: 3.7706\n",
      "Epoch [6/100], Train Loss: 3.7706, Val Loss: 2.1542\n",
      "Epoch [7/100], Loss: 2.9787\n",
      "Epoch [7/100], Train Loss: 2.9787, Val Loss: 1.7489\n",
      "Epoch [8/100], Loss: 2.5748\n",
      "Epoch [8/100], Train Loss: 2.5748, Val Loss: 1.5403\n",
      "Epoch [9/100], Loss: 2.3078\n",
      "Epoch [9/100], Train Loss: 2.3078, Val Loss: 1.3726\n",
      "Epoch [10/100], Loss: 2.1013\n",
      "Epoch [10/100], Train Loss: 2.1013, Val Loss: 1.2843\n",
      "Epoch [11/100], Loss: 1.9314\n",
      "Epoch [11/100], Train Loss: 1.9314, Val Loss: 1.1524\n",
      "Epoch [12/100], Loss: 1.8158\n",
      "Epoch [12/100], Train Loss: 1.8158, Val Loss: 1.1835\n",
      "Epoch [13/100], Loss: 1.7727\n",
      "Epoch [13/100], Train Loss: 1.7727, Val Loss: 1.0810\n",
      "Epoch [14/100], Loss: 1.6948\n",
      "Epoch [14/100], Train Loss: 1.6948, Val Loss: 1.0869\n"
     ]
    },
    {
     "name": "stderr",
     "output_type": "stream",
     "text": [
      " 23%|██▎       | 23/100 [00:00<00:01, 40.19it/s]"
     ]
    },
    {
     "name": "stdout",
     "output_type": "stream",
     "text": [
      "Epoch [15/100], Loss: 1.6212\n",
      "Epoch [15/100], Train Loss: 1.6212, Val Loss: 1.0204\n",
      "Epoch [16/100], Loss: 1.6151\n",
      "Epoch [16/100], Train Loss: 1.6151, Val Loss: 1.0176\n",
      "Epoch [17/100], Loss: 1.5744\n",
      "Epoch [17/100], Train Loss: 1.5744, Val Loss: 1.0070\n",
      "Epoch [18/100], Loss: 1.5576\n",
      "Epoch [18/100], Train Loss: 1.5576, Val Loss: 0.9841\n",
      "Epoch [19/100], Loss: 1.5249\n",
      "Epoch [19/100], Train Loss: 1.5249, Val Loss: 0.9717\n",
      "Epoch [20/100], Loss: 1.5157\n",
      "Epoch [20/100], Train Loss: 1.5157, Val Loss: 0.9944\n",
      "Epoch [21/100], Loss: 1.4934\n",
      "Epoch [21/100], Train Loss: 1.4934, Val Loss: 0.9744\n",
      "Epoch [22/100], Loss: 1.4565\n",
      "Epoch [22/100], Train Loss: 1.4565, Val Loss: 0.9922\n",
      "Epoch [23/100], Loss: 1.4575\n",
      "Epoch [23/100], Train Loss: 1.4575, Val Loss: 0.9668\n",
      "Epoch [24/100], Loss: 1.4681\n",
      "Epoch [24/100], Train Loss: 1.4681, Val Loss: 1.0107\n",
      "Epoch [25/100], Loss: 1.4742\n",
      "Epoch [25/100], Train Loss: 1.4742, Val Loss: 0.9939\n",
      "Epoch [26/100], Loss: 1.4401\n",
      "Epoch [26/100], Train Loss: 1.4401, Val Loss: 1.0860\n",
      "Epoch [27/100], Loss: 1.4891\n",
      "Epoch [27/100], Train Loss: 1.4891, Val Loss: 0.9948\n"
     ]
    },
    {
     "name": "stderr",
     "output_type": "stream",
     "text": [
      " 38%|███▊      | 38/100 [00:01<00:01, 54.87it/s]"
     ]
    },
    {
     "name": "stdout",
     "output_type": "stream",
     "text": [
      "Epoch [28/100], Loss: 1.4629\n",
      "Epoch [28/100], Train Loss: 1.4629, Val Loss: 1.0188\n",
      "Epoch [29/100], Loss: 1.4320\n",
      "Epoch [29/100], Train Loss: 1.4320, Val Loss: 0.9618\n",
      "Epoch [30/100], Loss: 1.4113\n",
      "Epoch [30/100], Train Loss: 1.4113, Val Loss: 0.9389\n",
      "Epoch [31/100], Loss: 1.3731\n",
      "Epoch [31/100], Train Loss: 1.3731, Val Loss: 0.9493\n",
      "Epoch [32/100], Loss: 1.3798\n",
      "Epoch [32/100], Train Loss: 1.3798, Val Loss: 0.9310\n",
      "Epoch [33/100], Loss: 1.3687\n",
      "Epoch [33/100], Train Loss: 1.3687, Val Loss: 0.9258\n",
      "Epoch [34/100], Loss: 1.3644\n",
      "Epoch [34/100], Train Loss: 1.3644, Val Loss: 0.9341\n",
      "Epoch [35/100], Loss: 1.3574\n",
      "Epoch [35/100], Train Loss: 1.3574, Val Loss: 0.9285\n",
      "Epoch [36/100], Loss: 1.3367\n",
      "Epoch [36/100], Train Loss: 1.3367, Val Loss: 0.9163\n",
      "Epoch [37/100], Loss: 1.3621\n",
      "Epoch [37/100], Train Loss: 1.3621, Val Loss: 0.9209\n",
      "Epoch [38/100], Loss: 1.3498\n",
      "Epoch [38/100], Train Loss: 1.3498, Val Loss: 0.9129\n",
      "Epoch [39/100], Loss: 1.3496\n",
      "Epoch [39/100], Train Loss: 1.3496, Val Loss: 0.9099\n",
      "Epoch [40/100], Loss: 1.3449\n",
      "Epoch [40/100], Train Loss: 1.3449, Val Loss: 0.9121\n",
      "Epoch [41/100], Loss: 1.3288\n",
      "Epoch [41/100], Train Loss: 1.3288, Val Loss: 0.9065\n",
      "Epoch [42/100], Loss: 1.3323\n",
      "Epoch [42/100], Train Loss: 1.3323, Val Loss: 0.9043\n",
      "Epoch [43/100], Loss: 1.3335\n",
      "Epoch [43/100], Train Loss: 1.3335, Val Loss: 0.9044\n"
     ]
    },
    {
     "name": "stderr",
     "output_type": "stream",
     "text": [
      " 55%|█████▌    | 55/100 [00:01<00:00, 67.05it/s]"
     ]
    },
    {
     "name": "stdout",
     "output_type": "stream",
     "text": [
      "Epoch [44/100], Loss: 1.3153\n",
      "Epoch [44/100], Train Loss: 1.3153, Val Loss: 0.9023\n",
      "Epoch [45/100], Loss: 1.3131\n",
      "Epoch [45/100], Train Loss: 1.3131, Val Loss: 0.9016\n",
      "Epoch [46/100], Loss: 1.3176\n",
      "Epoch [46/100], Train Loss: 1.3176, Val Loss: 0.9021\n",
      "Epoch [47/100], Loss: 1.3132\n",
      "Epoch [47/100], Train Loss: 1.3132, Val Loss: 0.8988\n",
      "Epoch [48/100], Loss: 1.3265\n",
      "Epoch [48/100], Train Loss: 1.3265, Val Loss: 0.8991\n",
      "Epoch [49/100], Loss: 1.3181\n",
      "Epoch [49/100], Train Loss: 1.3181, Val Loss: 0.8994\n",
      "Epoch [50/100], Loss: 1.3196\n",
      "Epoch [50/100], Train Loss: 1.3196, Val Loss: 0.8989\n",
      "Epoch [51/100], Loss: 1.3243\n",
      "Epoch [51/100], Train Loss: 1.3243, Val Loss: 0.8986\n",
      "Epoch [52/100], Loss: 1.3338\n",
      "Epoch [52/100], Train Loss: 1.3338, Val Loss: 0.8985\n",
      "Epoch [53/100], Loss: 1.3129\n",
      "Epoch [53/100], Train Loss: 1.3129, Val Loss: 0.8974\n",
      "Epoch [54/100], Loss: 1.2957\n",
      "Epoch [54/100], Train Loss: 1.2957, Val Loss: 0.8965\n",
      "Epoch [55/100], Loss: 1.3246\n",
      "Epoch [55/100], Train Loss: 1.3246, Val Loss: 0.8959\n",
      "Epoch [56/100], Loss: 1.2923\n",
      "Epoch [56/100], Train Loss: 1.2923, Val Loss: 0.8954\n",
      "Epoch [57/100], Loss: 1.3230\n",
      "Epoch [57/100], Train Loss: 1.3230, Val Loss: 0.8949\n",
      "Epoch [58/100], Loss: 1.3142\n",
      "Epoch [58/100], Train Loss: 1.3142, Val Loss: 0.8947\n"
     ]
    },
    {
     "name": "stderr",
     "output_type": "stream",
     "text": [
      "                                                \r"
     ]
    },
    {
     "name": "stdout",
     "output_type": "stream",
     "text": [
      "Epoch [59/100], Loss: 1.3296\n",
      "Epoch [59/100], Train Loss: 1.3296, Val Loss: 0.8939\n",
      "Epoch [60/100], Loss: 1.3224\n",
      "Epoch [60/100], Train Loss: 1.3224, Val Loss: 0.8933\n",
      "Epoch [61/100], Loss: 1.3162\n",
      "Epoch [61/100], Train Loss: 1.3162, Val Loss: 0.8928\n",
      "Epoch [62/100], Loss: 1.3012\n",
      "Epoch [62/100], Train Loss: 1.3012, Val Loss: 0.8922\n",
      "Epoch [63/100], Loss: 1.2961\n",
      "Epoch [63/100], Train Loss: 1.2961, Val Loss: 0.8919\n",
      "Epoch [64/100], Loss: 1.3032\n",
      "Epoch [64/100], Train Loss: 1.3032, Val Loss: 0.8910\n",
      "Epoch [65/100], Loss: 1.3175\n",
      "Epoch [65/100], Train Loss: 1.3175, Val Loss: 0.8915\n",
      "Epoch [66/100], Loss: 1.3029\n",
      "Epoch [66/100], Train Loss: 1.3029, Val Loss: 0.8905\n",
      "Epoch [67/100], Loss: 1.2976\n",
      "Epoch [67/100], Train Loss: 1.2976, Val Loss: 0.8901\n",
      "Epoch [68/100], Loss: 1.2890\n",
      "Epoch [68/100], Train Loss: 1.2890, Val Loss: 0.8896\n",
      "Epoch [69/100], Loss: 1.3088\n",
      "Epoch [69/100], Train Loss: 1.3088, Val Loss: 0.8893\n",
      "Epoch [70/100], Loss: 1.3102\n",
      "Epoch [70/100], Train Loss: 1.3102, Val Loss: 0.8890\n",
      "Epoch [71/100], Loss: 1.2927\n"
     ]
    },
    {
     "name": "stderr",
     "output_type": "stream",
     "text": [
      " 79%|███████▉  | 79/100 [00:01<00:00, 68.96it/s]"
     ]
    },
    {
     "name": "stdout",
     "output_type": "stream",
     "text": [
      "Epoch [71/100], Train Loss: 1.2927, Val Loss: 0.8890\n",
      "Epoch [72/100], Loss: 1.2877\n",
      "Epoch [72/100], Train Loss: 1.2877, Val Loss: 0.8891\n",
      "Epoch [73/100], Loss: 1.3019\n",
      "Epoch [73/100], Train Loss: 1.3019, Val Loss: 0.8889\n",
      "Epoch [74/100], Loss: 1.2984\n",
      "Epoch [74/100], Train Loss: 1.2984, Val Loss: 0.8882\n",
      "Epoch [75/100], Loss: 1.3153\n",
      "Epoch [75/100], Train Loss: 1.3153, Val Loss: 0.8878\n",
      "Epoch [76/100], Loss: 1.2917\n",
      "Epoch [76/100], Train Loss: 1.2917, Val Loss: 0.8878\n",
      "Epoch [77/100], Loss: 1.2923\n",
      "Epoch [77/100], Train Loss: 1.2923, Val Loss: 0.8874\n",
      "Epoch [78/100], Loss: 1.3170\n",
      "Epoch [78/100], Train Loss: 1.3170, Val Loss: 0.8872\n",
      "Epoch [79/100], Loss: 1.2903\n",
      "Epoch [79/100], Train Loss: 1.2903, Val Loss: 0.8874\n",
      "Epoch [80/100], Loss: 1.2902\n",
      "Epoch [80/100], Train Loss: 1.2902, Val Loss: 0.8871\n",
      "Epoch [81/100], Loss: 1.2765\n",
      "Epoch [81/100], Train Loss: 1.2765, Val Loss: 0.8868\n",
      "Epoch [82/100], Loss: 1.2877\n",
      "Epoch [82/100], Train Loss: 1.2877, Val Loss: 0.8867\n",
      "Epoch [83/100], Loss: 1.2957\n",
      "Epoch [83/100], Train Loss: 1.2957, Val Loss: 0.8866\n",
      "Epoch [84/100], Loss: 1.3027\n",
      "Epoch [84/100], Train Loss: 1.3027, Val Loss: 0.8864\n",
      "Epoch [85/100], Loss: 1.2933\n",
      "Epoch [85/100], Train Loss: 1.2933, Val Loss: 0.8862\n"
     ]
    },
    {
     "name": "stderr",
     "output_type": "stream",
     "text": [
      " 94%|█████████▍| 94/100 [00:01<00:00, 61.61it/s]"
     ]
    },
    {
     "name": "stdout",
     "output_type": "stream",
     "text": [
      "Epoch [86/100], Loss: 1.2938\n",
      "Epoch [86/100], Train Loss: 1.2938, Val Loss: 0.8861\n",
      "Epoch [87/100], Loss: 1.2987\n",
      "Epoch [87/100], Train Loss: 1.2987, Val Loss: 0.8867\n",
      "Epoch [88/100], Loss: 1.2980\n",
      "Epoch [88/100], Train Loss: 1.2980, Val Loss: 0.8860\n",
      "Epoch [89/100], Loss: 1.2833\n",
      "Epoch [89/100], Train Loss: 1.2833, Val Loss: 0.8857\n",
      "Epoch [90/100], Loss: 1.2963\n",
      "Epoch [90/100], Train Loss: 1.2963, Val Loss: 0.8856\n",
      "Epoch [91/100], Loss: 1.2792\n",
      "Epoch [91/100], Train Loss: 1.2792, Val Loss: 0.8855\n",
      "Epoch [92/100], Loss: 1.2858\n",
      "Epoch [92/100], Train Loss: 1.2858, Val Loss: 0.8853\n",
      "Epoch [93/100], Loss: 1.2790\n",
      "Epoch [93/100], Train Loss: 1.2790, Val Loss: 0.8852\n",
      "Epoch [94/100], Loss: 1.2967\n",
      "Epoch [94/100], Train Loss: 1.2967, Val Loss: 0.8850\n",
      "Epoch [95/100], Loss: 1.2886\n",
      "Epoch [95/100], Train Loss: 1.2886, Val Loss: 0.8850\n",
      "Epoch [96/100], Loss: 1.2918\n",
      "Epoch [96/100], Train Loss: 1.2918, Val Loss: 0.8850\n"
     ]
    },
    {
     "name": "stderr",
     "output_type": "stream",
     "text": [
      "100%|██████████| 100/100 [00:01<00:00, 52.12it/s]\n"
     ]
    },
    {
     "name": "stdout",
     "output_type": "stream",
     "text": [
      "Epoch [97/100], Loss: 1.2880\n",
      "Epoch [97/100], Train Loss: 1.2880, Val Loss: 0.8847\n",
      "Epoch [98/100], Loss: 1.2973\n",
      "Epoch [98/100], Train Loss: 1.2973, Val Loss: 0.8846\n",
      "Epoch [99/100], Loss: 1.2928\n",
      "Epoch [99/100], Train Loss: 1.2928, Val Loss: 0.8846\n",
      "Epoch [100/100], Loss: 1.2995\n",
      "Epoch [100/100], Train Loss: 1.2995, Val Loss: 0.8844\n"
     ]
    },
    {
     "data": {
      "image/png": "[encoded data removed]",
      "text/plain": [
       "<Figure size 1000x600 with 1 Axes>"
      ]
     },
     "metadata": {},
     "output_type": "display_data"
    }
   ],
   "source": [
    "import torch\n",
    "import torch.optim as optim\n",
    "import torch.nn as nn\n",
    "from torch.utils.data import DataLoader, TensorDataset\n",
    "from tqdm import tqdm\n",
    "import matplotlib.pyplot as plt\n",
    "\n",
    "# Assuming `features_tensor` and `target_tensor` are prepared and available\n",
    "condition_dim = y_train_tensor.shape[1]  # Example: number of classes or other categorical input\n",
    "input_dim = features_tensor.shape[1]\n",
    "latent_dim = 100\n",
    "beta = 0.4\n",
    "\n",
    "# Define the VAE model (ensure that your model can handle `condition_dim` as input)\n",
    "vae = VAE(input_dim, latent_dim, condition_dim)\n",
    "device = torch.device(\"cuda\" if torch.cuda.is_available() else \"cpu\")\n",
    "vae.to(device)\n",
    "\n",
    "optimizer = optim.Adam(vae.parameters(), lr=1e-3, weight_decay=1e-5)\n",
    "reconstruction_loss_fn1 = nn.MSELoss(reduction=\"mean\")\n",
    "reconstruction_loss_fn = nn.L1Loss(reduction='mean')\n",
    "reconstruction_loss_fn2 = nn.SmoothL1Loss(reduction='mean')\n",
    "\n",
    "# Define the VAE loss function\n",
    "def vae_loss(reconstructed_x, x, mu, log_var, beta=1.0):\n",
    "    reconstruction_loss = reconstruction_loss_fn(reconstructed_x, x)\n",
    "    kl_divergence = -0.5 * torch.sum(1 + log_var - mu.pow(2) - log_var.exp())\n",
    "    return reconstruction_loss + beta * kl_divergence  # Apply beta scaling\n",
    "\n",
    "\n",
    "\n",
    "\n",
    "# Convert to TensorDataset0.474925696849823\n",
    "train_dataset = TensorDataset(X_train_tensor, y_train_tensor)\n",
    "val_dataset = TensorDataset(X_val_tensor, y_val_tensor)\n",
    "\n",
    "train_loader = DataLoader(train_dataset, batch_size=128, shuffle=True)\n",
    "val_loader = DataLoader(val_dataset, batch_size=128, shuffle=False)\n",
    "\n",
    "# Training loop\n",
    "num_epochs = 100  # Adjust epochs for demonstration\n",
    "train_losses = []\n",
    "val_losses = []\n",
    "\n",
    "\n",
    "patience = 10  # Number of epochs without improvement before stopping\n",
    "best_loss = float('inf')  # Initialize the best loss to infinity\n",
    "epochs_without_improvement = 0 \n",
    "\n",
    "for epoch in tqdm(range(num_epochs)):\n",
    "    # Training phase\n",
    "    vae.train()\n",
    "    epoch_train_loss = 0\n",
    "    for batch in train_loader:\n",
    "        features, conditions = batch\n",
    "        features = features.to(device)\n",
    "        conditions = conditions.to(device)\n",
    "        reconstructed_x, mu, log_var = vae(features, conditions)\n",
    "\n",
    "        loss = vae_loss(reconstructed_x, features, mu, log_var, beta)\n",
    "        epoch_train_loss += loss.item()\n",
    "\n",
    "        optimizer.zero_grad()\n",
    "        loss.backward()\n",
    "        optimizer.step()\n",
    "\n",
    "    train_losses.append(epoch_train_loss)\n",
    "    if epoch_train_loss < best_loss:\n",
    "        best_loss = epoch_train_loss\n",
    "        epochs_without_improvement = 0  # Reset counter\n",
    "        # Save model checkpoint when there's an improvement\n",
    "        torch.save(vae.state_dict(), \"best_vae_lrelu_model.pth\")\n",
    "    else:\n",
    "        epochs_without_improvement += 1\n",
    "\n",
    "    print(f\"Epoch [{epoch + 1}/{num_epochs}], Loss: {epoch_train_loss:.4f}\")\n",
    "\n",
    "    # Validation phase\n",
    "    vae.eval()\n",
    "    epoch_val_loss = 0\n",
    "    with torch.no_grad():\n",
    "        for batch in val_loader:\n",
    "            features, conditions = batch\n",
    "            features = features.to(device)\n",
    "            conditions = conditions.to(device)\n",
    "            reconstructed_x, mu, log_var = vae(features, conditions)\n",
    "\n",
    "            loss = vae_loss(reconstructed_x, features, mu, log_var)\n",
    "            epoch_val_loss += loss.item()\n",
    "\n",
    "    val_losses.append(epoch_val_loss)\n",
    "\n",
    "    tqdm.write(f\"Epoch [{epoch + 1}/{num_epochs}], Train Loss: {epoch_train_loss:.4f}, Val Loss: {epoch_val_loss:.4f}\")\n",
    "\n",
    "# Plotting training and validation losses\n",
    "plt.figure(figsize=(10, 6))\n",
    "plt.plot(range(1, num_epochs + 1), train_losses, label='Train Loss', marker='o')\n",
    "plt.plot(range(1, num_epochs + 1), val_losses, label='Validation Loss', marker='x')\n",
    "plt.xlabel('Epochs')\n",
    "plt.ylabel('Loss')\n",
    "plt.title('Training and Validation Loss Over Epochs')\n",
    "plt.legend()\n",
    "plt.grid(True)\n",
    "plt.show()\n"
   ]
  },
  {
   "cell_type": "code",
   "execution_count": 7,
   "metadata": {},
   "outputs": [
    {
     "name": "stderr",
     "output_type": "stream",
     "text": [
      "/tmp/ipykernel_12599/585296845.py:5: FutureWarning: You are using `torch.load` with `weights_only=False` (the current default value), which uses the default pickle module implicitly. It is possible to construct malicious pickle data which will execute arbitrary code during unpickling (See https://github.com/pytorch/pytorch/blob/main/SECURITY.md#untrusted-models for more details). In a future release, the default value for `weights_only` will be flipped to `True`. This limits the functions that could be executed during unpickling. Arbitrary objects will no longer be allowed to be loaded via this mode unless they are explicitly allowlisted by the user via `torch.serialization.add_safe_globals`. We recommend you start setting `weights_only=True` for any use case where you don't have full control of the loaded file. Please open an issue on GitHub for any issues related to this experimental feature.\n",
      "  vae.load_state_dict(torch.load(\"best_vae_lrelu_model.pth\"))\n"
     ]
    },
    {
     "data": {
      "text/plain": [
       "VAE(\n",
       "  (encoder): Encoder(\n",
       "    (fc1): Linear(in_features=15, out_features=512, bias=True)\n",
       "    (fc2): Linear(in_features=512, out_features=256, bias=True)\n",
       "    (fc3): Linear(in_features=256, out_features=128, bias=True)\n",
       "    (fc_mean): Linear(in_features=128, out_features=100, bias=True)\n",
       "    (fc_log_var): Linear(in_features=128, out_features=100, bias=True)\n",
       "    (LeakyRelu): LeakyReLU(negative_slope=0.01)\n",
       "    (dropout): Dropout(p=0.3, inplace=False)\n",
       "  )\n",
       "  (decoder): Decoder(\n",
       "    (fc1): Linear(in_features=101, out_features=128, bias=True)\n",
       "    (fc2): Linear(in_features=128, out_features=256, bias=True)\n",
       "    (fc3): Linear(in_features=256, out_features=512, bias=True)\n",
       "    (fc_output): Linear(in_features=512, out_features=14, bias=True)\n",
       "    (lrelu): LeakyReLU(negative_slope=0.01)\n",
       "    (sigmoid): Sigmoid()\n",
       "    (dropout): Dropout(p=0.3, inplace=False)\n",
       "  )\n",
       ")"
      ]
     },
     "execution_count": 7,
     "metadata": {},
     "output_type": "execute_result"
    }
   ],
   "source": [
    "import torch\n",
    "\n",
    "# Reinitialize the VAE with the same architecture as used during training\n",
    "vae = VAE(input_dim, latent_dim, condition_dim)  # Ensure these dimensions match your training setup\n",
    "vae.load_state_dict(torch.load(\"best_vae_lrelu_model.pth\"))\n",
    "vae.eval()  # Set the model to evaluation mode\n",
    "vae.to(device)  "
   ]
  },
  {
   "cell_type": "code",
   "execution_count": 8,
   "metadata": {},
   "outputs": [],
   "source": [
    "import torch\n",
    "\n",
    "# Number of samples to generate\n",
    "num_samples = 1000\n",
    "\n",
    "# Sample from a standard normal distribution (mean=0, std=1) in the latent space\n",
    "z = torch.randn(num_samples, latent_dim).to(device)\n",
    "\n",
    "# Provide conditional input if the model is conditional (e.g., class labels, other inputs)\n",
    "# Replace `condition_tensor` with appropriate conditional data for your problem\n",
    "conditions = torch.randint(0, condition_dim, (num_samples,)).to(device)  # Example: random class labels\n",
    "conditions = torch.nn.functional.one_hot(conditions, num_classes=condition_dim).float()  # One-hot encode if needed\n",
    "\n",
    "# Generate synthetic data\n",
    "with torch.no_grad():\n",
    "    # vae.  # Disable gradient computation\n",
    "    generated_data = vae.decoder(z, conditions)  # Use the decoder to generate data\n"
   ]
  },
  {
   "cell_type": "code",
   "execution_count": 9,
   "metadata": {},
   "outputs": [
    {
     "name": "stdout",
     "output_type": "stream",
     "text": [
      "0     1.0\n",
      "1     1.0\n",
      "2     1.0\n",
      "3     1.0\n",
      "4     1.0\n",
      "     ... \n",
      "95    0.0\n",
      "96    1.0\n",
      "97    1.0\n",
      "98    1.0\n",
      "99    1.0\n",
      "Name: Feature_0, Length: 100, dtype: float32\n"
     ]
    },
    {
     "data": {
      "image/png": "[encoded data removed]",
      "text/plain": [
       "<Figure size 1000x600 with 1 Axes>"
      ]
     },
     "metadata": {},
     "output_type": "display_data"
    },
    {
     "data": {
      "image/png": "[encoded data removed]",
      "text/plain": [
       "<Figure size 1000x600 with 1 Axes>"
      ]
     },
     "metadata": {},
     "output_type": "display_data"
    }
   ],
   "source": [
    "import matplotlib.pyplot as plt\n",
    "import seaborn as sns\n",
    "import pandas as pd\n",
    "\n",
    "# Assuming you have real data (X_real) and generated data (X_generated) as NumPy arrays\n",
    "X_real_np = X_train_tensor.cpu().numpy()[:100]  # Sample 100 real data points\n",
    "X_generated_np = generated_data.cpu().numpy()[:100]  # Sample 100 generated data points\n",
    "\n",
    "# Convert to pandas DataFrame for easier plotting\n",
    "real_df = pd.DataFrame(X_real_np, columns=[f\"Feature_{i}\" for i in range(X_real_np.shape[1])])\n",
    "gen_df = pd.DataFrame(X_generated_np, columns=[f\"Feature_{i}\" for i in range(X_generated_np.shape[1])])\n",
    "\n",
    "# Plot the distributions of a single feature for both real and generated data\n",
    "feature_idx = 3  # Change this to plot a specific feature\n",
    "print(real_df[f\"Feature_0\"])\n",
    "plt.figure(figsize=(10, 6))\n",
    "sns.kdeplot(real_df[f\"Feature_{feature_idx}\"], label=\"Real Data\", color=\"blue\", fill=True, alpha=0.5)\n",
    "sns.kdeplot(gen_df[f\"Feature_{feature_idx}\"], label=\"Generated Data\", color=\"orange\", fill=True, alpha=0.5)\n",
    "plt.title(f\"Feature {feature_idx}: Real vs Generated Data Distribution\")\n",
    "plt.xlabel(\"Value\")\n",
    "plt.ylabel(\"Density\")\n",
    "plt.legend()\n",
    "plt.show()\n",
    "\n",
    "# Alternatively, scatter plot for two features\n",
    "plt.figure(figsize=(10, 6))\n",
    "plt.scatter(real_df[f\"Feature_0\"], real_df[f\"Feature_1\"], label=\"Real Data\", color=\"blue\", alpha=0.5)\n",
    "plt.scatter(gen_df[f\"Feature_0\"], gen_df[f\"Feature_1\"], label=\"Generated Data\", color=\"orange\", alpha=0.5)\n",
    "plt.title(\"Scatter Plot: Real vs Generated Data\")\n",
    "plt.xlabel(\"Feature 0\")\n",
    "plt.ylabel(\"Feature 1\")\n",
    "plt.legend()\n",
    "plt.show()\n"
   ]
  },
  {
   "cell_type": "code",
   "execution_count": 10,
   "metadata": {},
   "outputs": [
    {
     "name": "stdout",
     "output_type": "stream",
     "text": [
      "Reconstruction Loss (MSE): 0.47492551803588867\n"
     ]
    }
   ],
   "source": [
    "from torch.nn.functional import mse_loss\n",
    "device = generated_data.device\n",
    "loss = mse_loss(generated_data[:100].to(device), X_train_tensor[:100].to(device),reduction='mean')\n",
    "print(f\"Reconstruction Loss (MSE): {loss.item()}\")"
   ]
  },
  {
   "cell_type": "markdown",
   "metadata": {},
   "source": [
    "VAE-Ensemble"
   ]
  },
  {
   "cell_type": "code",
   "execution_count": 11,
   "metadata": {},
   "outputs": [],
   "source": [
    "import torch.nn as nn\n",
    "class VAEEnsemble(nn.Module):\n",
    "    def __init__(self, num_models, latent_dim, output_dim, condition_dim):\n",
    "        super(VAEEnsemble, self).__init__()\n",
    "        self.num_models = num_models\n",
    "        self.vae_models = nn.ModuleList([VAE(latent_dim, output_dim, condition_dim) for _ in range(num_models)])\n",
    "        \n",
    "    def forward(self, x, condition):\n",
    "        reconstructed_x_list = []\n",
    "        mu_list = []\n",
    "        log_var_list = []\n",
    "        \n",
    "        # Forward pass through each VAE model in the ensemble\n",
    "        for vae_model in self.vae_models:\n",
    "            reconstructed_x, mu, log_var = vae_model(x, condition)\n",
    "            reconstructed_x_list.append(reconstructed_x)\n",
    "            mu_list.append(mu)\n",
    "            log_var_list.append(log_var)\n",
    "        \n",
    "        # Combine the outputs from all models (simple averaging)\n",
    "        reconstructed_x = torch.mean(torch.stack(reconstructed_x_list), dim=0)\n",
    "        mu = torch.mean(torch.stack(mu_list), dim=0)\n",
    "        log_var = torch.mean(torch.stack(log_var_list), dim=0)\n",
    "        \n",
    "        return reconstructed_x, mu, log_var\n"
   ]
  },
  {
   "cell_type": "code",
   "execution_count": 17,
   "metadata": {},
   "outputs": [
    {
     "name": "stderr",
     "output_type": "stream",
     "text": [
      "  9%|▉         | 9/100 [00:00<00:02, 39.53it/s]"
     ]
    },
    {
     "name": "stdout",
     "output_type": "stream",
     "text": [
      "Epoch [1/100], Train Loss: 10.5200, Val Loss: 4.0881\n",
      "Epoch [2/100], Train Loss: 4.4683, Val Loss: 2.3228\n",
      "Epoch [3/100], Train Loss: 3.0616, Val Loss: 1.6268\n",
      "Epoch [4/100], Train Loss: 2.3415, Val Loss: 1.3560\n",
      "Epoch [5/100], Train Loss: 1.9577, Val Loss: 1.2289\n",
      "Epoch [6/100], Train Loss: 1.7680, Val Loss: 1.1155\n",
      "Epoch [7/100], Train Loss: 1.6183, Val Loss: 1.0368\n",
      "Epoch [8/100], Train Loss: 1.5382, Val Loss: 1.0110\n",
      "Epoch [9/100], Train Loss: 1.4904, Val Loss: 0.9851\n"
     ]
    },
    {
     "name": "stderr",
     "output_type": "stream",
     "text": [
      " 18%|█▊        | 18/100 [00:00<00:02, 38.27it/s]"
     ]
    },
    {
     "name": "stdout",
     "output_type": "stream",
     "text": [
      "Epoch [10/100], Train Loss: 1.4638, Val Loss: 0.9720\n",
      "Epoch [11/100], Train Loss: 1.4204, Val Loss: 0.9516\n",
      "Epoch [12/100], Train Loss: 1.4177, Val Loss: 0.9355\n",
      "Epoch [13/100], Train Loss: 1.3863, Val Loss: 0.9294\n",
      "Epoch [14/100], Train Loss: 1.3748, Val Loss: 0.9171\n",
      "Epoch [15/100], Train Loss: 1.3790, Val Loss: 0.9187\n",
      "Epoch [16/100], Train Loss: 1.3510, Val Loss: 0.9089\n",
      "Epoch [17/100], Train Loss: 1.3451, Val Loss: 0.9241\n",
      "Epoch [18/100], Train Loss: 1.3499, Val Loss: 0.9052\n"
     ]
    },
    {
     "name": "stderr",
     "output_type": "stream",
     "text": [
      " 24%|██▍       | 24/100 [00:00<00:01, 43.86it/s]"
     ]
    },
    {
     "name": "stdout",
     "output_type": "stream",
     "text": [
      "Epoch [19/100], Train Loss: 1.3466, Val Loss: 0.9144\n",
      "Epoch [20/100], Train Loss: 1.3268, Val Loss: 0.9046\n",
      "Epoch [21/100], Train Loss: 1.3595, Val Loss: 0.9093\n",
      "Epoch [22/100], Train Loss: 1.3327, Val Loss: 0.8967\n",
      "Epoch [23/100], Train Loss: 1.3355, Val Loss: 0.9010\n",
      "Epoch [24/100], Train Loss: 1.3164, Val Loss: 0.8947\n",
      "Epoch [25/100], Train Loss: 1.3107, Val Loss: 0.8942\n",
      "Epoch [26/100], Train Loss: 1.3058, Val Loss: 0.8957\n",
      "Epoch [27/100], Train Loss: 1.3206, Val Loss: 0.8934\n",
      "Epoch [28/100], Train Loss: 1.3303, Val Loss: 0.8968\n"
     ]
    },
    {
     "name": "stderr",
     "output_type": "stream",
     "text": [
      " 34%|███▍      | 34/100 [00:00<00:01, 41.82it/s]"
     ]
    },
    {
     "name": "stdout",
     "output_type": "stream",
     "text": [
      "Epoch [29/100], Train Loss: 1.3259, Val Loss: 0.8916\n",
      "Epoch [30/100], Train Loss: 1.3095, Val Loss: 0.8951\n",
      "Epoch [31/100], Train Loss: 1.3091, Val Loss: 0.8901\n",
      "Epoch [32/100], Train Loss: 1.3091, Val Loss: 0.8916\n",
      "Epoch [33/100], Train Loss: 1.2909, Val Loss: 0.8897\n",
      "Epoch [34/100], Train Loss: 1.3241, Val Loss: 0.8910\n",
      "Epoch [35/100], Train Loss: 1.3125, Val Loss: 0.8895\n",
      "Epoch [36/100], Train Loss: 1.3054, Val Loss: 0.8916\n"
     ]
    },
    {
     "name": "stderr",
     "output_type": "stream",
     "text": [
      " 44%|████▍     | 44/100 [00:01<00:01, 39.04it/s]"
     ]
    },
    {
     "name": "stdout",
     "output_type": "stream",
     "text": [
      "Epoch [37/100], Train Loss: 1.3090, Val Loss: 0.8883\n",
      "Epoch [38/100], Train Loss: 1.3038, Val Loss: 0.8895\n",
      "Epoch [39/100], Train Loss: 1.2973, Val Loss: 0.8874\n",
      "Epoch [40/100], Train Loss: 1.3048, Val Loss: 0.8878\n",
      "Epoch [41/100], Train Loss: 1.2948, Val Loss: 0.8868\n",
      "Epoch [42/100], Train Loss: 1.2904, Val Loss: 0.8874\n",
      "Epoch [43/100], Train Loss: 1.2983, Val Loss: 0.8865\n",
      "Epoch [44/100], Train Loss: 1.2900, Val Loss: 0.8861\n"
     ]
    },
    {
     "name": "stderr",
     "output_type": "stream",
     "text": [
      " 49%|████▉     | 49/100 [00:01<00:01, 39.02it/s]"
     ]
    },
    {
     "name": "stdout",
     "output_type": "stream",
     "text": [
      "Epoch [45/100], Train Loss: 1.3081, Val Loss: 0.8859\n",
      "Epoch [46/100], Train Loss: 1.3142, Val Loss: 0.8857\n",
      "Epoch [47/100], Train Loss: 1.2871, Val Loss: 0.8854\n",
      "Epoch [48/100], Train Loss: 1.3014, Val Loss: 0.8850\n",
      "Epoch [49/100], Train Loss: 1.2642, Val Loss: 0.8849\n",
      "Epoch [50/100], Train Loss: 1.2993, Val Loss: 0.8850\n",
      "Epoch [51/100], Train Loss: 1.3028, Val Loss: 0.8848\n",
      "Epoch [52/100], Train Loss: 1.2876, Val Loss: 0.8843\n"
     ]
    },
    {
     "name": "stderr",
     "output_type": "stream",
     "text": [
      " 57%|█████▋    | 57/100 [00:01<00:01, 37.81it/s]"
     ]
    },
    {
     "name": "stdout",
     "output_type": "stream",
     "text": [
      "Epoch [53/100], Train Loss: 1.2992, Val Loss: 0.8842\n",
      "Epoch [54/100], Train Loss: 1.2930, Val Loss: 0.8845\n",
      "Epoch [55/100], Train Loss: 1.2903, Val Loss: 0.8841\n",
      "Epoch [56/100], Train Loss: 1.2807, Val Loss: 0.8838\n",
      "Epoch [57/100], Train Loss: 1.2960, Val Loss: 0.8837\n",
      "Epoch [58/100], Train Loss: 1.3035, Val Loss: 0.8838\n",
      "Epoch [59/100], Train Loss: 1.3195, Val Loss: 0.8836\n",
      "Epoch [60/100], Train Loss: 1.2928, Val Loss: 0.8835\n",
      "Epoch [61/100], Train Loss: 1.2763, Val Loss: 0.8831\n",
      "Epoch [62/100], Train Loss: 1.2904, Val Loss: 0.8830\n"
     ]
    },
    {
     "name": "stderr",
     "output_type": "stream",
     "text": [
      " 69%|██████▉   | 69/100 [00:01<00:00, 46.32it/s]"
     ]
    },
    {
     "name": "stdout",
     "output_type": "stream",
     "text": [
      "Epoch [63/100], Train Loss: 1.2849, Val Loss: 0.8829\n",
      "Epoch [64/100], Train Loss: 1.3199, Val Loss: 0.8830\n",
      "Epoch [65/100], Train Loss: 1.3010, Val Loss: 0.8829\n",
      "Epoch [66/100], Train Loss: 1.2936, Val Loss: 0.8827\n",
      "Epoch [67/100], Train Loss: 1.3114, Val Loss: 0.8827\n",
      "Epoch [68/100], Train Loss: 1.2984, Val Loss: 0.8825\n",
      "Epoch [69/100], Train Loss: 1.3092, Val Loss: 0.8824\n",
      "Epoch [70/100], Train Loss: 1.2919, Val Loss: 0.8824\n",
      "Epoch [71/100], Train Loss: 1.2841, Val Loss: 0.8822\n",
      "Epoch [72/100], Train Loss: 1.2927, Val Loss: 0.8822\n"
     ]
    },
    {
     "name": "stderr",
     "output_type": "stream",
     "text": [
      " 79%|███████▉  | 79/100 [00:01<00:00, 45.76it/s]"
     ]
    },
    {
     "name": "stdout",
     "output_type": "stream",
     "text": [
      "Epoch [73/100], Train Loss: 1.2667, Val Loss: 0.8821\n",
      "Epoch [74/100], Train Loss: 1.2841, Val Loss: 0.8822\n",
      "Epoch [75/100], Train Loss: 1.2871, Val Loss: 0.8820\n",
      "Epoch [76/100], Train Loss: 1.2814, Val Loss: 0.8820\n",
      "Epoch [77/100], Train Loss: 1.2810, Val Loss: 0.8820\n",
      "Epoch [78/100], Train Loss: 1.2869, Val Loss: 0.8819\n",
      "Epoch [79/100], Train Loss: 1.2726, Val Loss: 0.8819\n",
      "Epoch [80/100], Train Loss: 1.2963, Val Loss: 0.8818\n",
      "Epoch [81/100], Train Loss: 1.3131, Val Loss: 0.8818\n",
      "Epoch [82/100], Train Loss: 1.2896, Val Loss: 0.8817\n",
      "Epoch [83/100], Train Loss: 1.2815, Val Loss: 0.8817\n"
     ]
    },
    {
     "name": "stderr",
     "output_type": "stream",
     "text": [
      " 91%|█████████ | 91/100 [00:02<00:00, 51.96it/s]"
     ]
    },
    {
     "name": "stdout",
     "output_type": "stream",
     "text": [
      "Epoch [84/100], Train Loss: 1.2896, Val Loss: 0.8816\n",
      "Epoch [85/100], Train Loss: 1.2837, Val Loss: 0.8816\n",
      "Epoch [86/100], Train Loss: 1.2871, Val Loss: 0.8815\n",
      "Epoch [87/100], Train Loss: 1.2777, Val Loss: 0.8816\n",
      "Epoch [88/100], Train Loss: 1.2733, Val Loss: 0.8815\n",
      "Epoch [89/100], Train Loss: 1.2880, Val Loss: 0.8815\n",
      "Epoch [90/100], Train Loss: 1.2776, Val Loss: 0.8815\n",
      "Epoch [91/100], Train Loss: 1.2829, Val Loss: 0.8814\n",
      "Epoch [92/100], Train Loss: 1.2952, Val Loss: 0.8813\n",
      "Epoch [93/100], Train Loss: 1.2773, Val Loss: 0.8814\n",
      "Epoch [94/100], Train Loss: 1.3035, Val Loss: 0.8813\n",
      "Epoch [95/100], Train Loss: 1.2786, Val Loss: 0.8813\n"
     ]
    },
    {
     "name": "stderr",
     "output_type": "stream",
     "text": [
      "100%|██████████| 100/100 [00:02<00:00, 42.83it/s]\n"
     ]
    },
    {
     "name": "stdout",
     "output_type": "stream",
     "text": [
      "Epoch [96/100], Train Loss: 1.2995, Val Loss: 0.8814\n",
      "Epoch [97/100], Train Loss: 1.3104, Val Loss: 0.8813\n",
      "Epoch [98/100], Train Loss: 1.2778, Val Loss: 0.8813\n",
      "Epoch [99/100], Train Loss: 1.2802, Val Loss: 0.8812\n",
      "Epoch [100/100], Train Loss: 1.2795, Val Loss: 0.8812\n"
     ]
    },
    {
     "data": {
      "image/png": "[encoded data removed]",
      "text/plain": [
       "<Figure size 1000x600 with 1 Axes>"
      ]
     },
     "metadata": {},
     "output_type": "display_data"
    }
   ],
   "source": [
    "# Define the VAEEnsemble model\n",
    "num_models = 3  # Set the number of models you want in the ensemble\n",
    "vae_ensemble = VAEEnsemble(num_models, input_dim, latent_dim, condition_dim)\n",
    "vae_ensemble.to(device)\n",
    "\n",
    "optimizer = optim.Adam(vae_ensemble.parameters(), lr=1e-3, weight_decay=1e-5)\n",
    "\n",
    "# Define the VAE loss function (same as before)\n",
    "def vae_loss(reconstructed_x, x, mu, log_var, beta=1.0):\n",
    "    reconstruction_loss = reconstruction_loss_fn(reconstructed_x, x)\n",
    "    kl_divergence = -0.5 * torch.sum(1 + log_var - mu.pow(2) - log_var.exp())\n",
    "    return reconstruction_loss + beta * kl_divergence  # Apply beta scaling\n",
    "\n",
    "# Training loop with VAEEnsemble\n",
    "num_epochs = 100\n",
    "train_losses = []\n",
    "val_losses = []\n",
    "\n",
    "patience = 10  # Number of epochs without improvement before stopping\n",
    "best_loss = float('inf')  # Initialize the best loss to infinity\n",
    "epochs_without_improvement = 0\n",
    "\n",
    "for epoch in tqdm(range(num_epochs)):\n",
    "    # Training phase\n",
    "    vae_ensemble.train()\n",
    "    epoch_train_loss = 0\n",
    "    for batch in train_loader:\n",
    "        features, conditions = batch\n",
    "        features = features.to(device)\n",
    "        conditions = conditions.to(device)\n",
    "\n",
    "        # Forward pass through the ensemble\n",
    "        reconstructed_x, mu, log_var = vae_ensemble(features, conditions)\n",
    "\n",
    "        loss = vae_loss(reconstructed_x, features, mu, log_var, beta)\n",
    "        epoch_train_loss += loss.item()\n",
    "\n",
    "        optimizer.zero_grad()\n",
    "        loss.backward()\n",
    "        optimizer.step()\n",
    "\n",
    "    train_losses.append(epoch_train_loss)\n",
    "    if epoch_train_loss < best_loss:\n",
    "        best_loss = epoch_train_loss\n",
    "        epochs_without_improvement = 0  # Reset counter\n",
    "        # Save model checkpoint when there's an improvement\n",
    "        torch.save(vae_ensemble.state_dict(), \"best_vae_ensemble_model.pth\")\n",
    "    else:\n",
    "        epochs_without_improvement += 1\n",
    "\n",
    "    # print(f\"Epoch [{epoch + 1}/{num_epochs}], Loss: {epoch_train_loss:.4f}\")\n",
    "\n",
    "    # Validation phase\n",
    "    vae_ensemble.eval()\n",
    "    epoch_val_loss = 0\n",
    "    with torch.no_grad():\n",
    "        for batch in val_loader:\n",
    "            features, conditions = batch\n",
    "            features = features.to(device)\n",
    "            conditions = conditions.to(device)\n",
    "            \n",
    "            reconstructed_x, mu, log_var = vae_ensemble(features, conditions)\n",
    "\n",
    "            loss = vae_loss(reconstructed_x, features, mu, log_var)\n",
    "            epoch_val_loss += loss.item()\n",
    "\n",
    "    val_losses.append(epoch_val_loss)\n",
    "    tqdm.write(f\"Epoch [{epoch + 1}/{num_epochs}], Train Loss: {epoch_train_loss:.4f}, Val Loss: {epoch_val_loss:.4f}\")\n",
    "\n",
    "# Plotting training and validation losses\n",
    "plt.figure(figsize=(10, 6))\n",
    "plt.plot(range(1, num_epochs + 1), train_losses, label='Train Loss', marker='o')\n",
    "plt.plot(range(1, num_epochs + 1), val_losses, label='Validation Loss', marker='x')\n",
    "plt.xlabel('Epochs')\n",
    "plt.ylabel('Loss')\n",
    "plt.title('Training and Validation Loss Over Epochs')\n",
    "plt.legend()\n",
    "plt.grid(True)\n",
    "plt.show()\n"
   ]
  },
  {
   "cell_type": "code",
   "execution_count": 18,
   "metadata": {},
   "outputs": [
    {
     "name": "stderr",
     "output_type": "stream",
     "text": [
      "/tmp/ipykernel_12599/2687919388.py:4: FutureWarning: You are using `torch.load` with `weights_only=False` (the current default value), which uses the default pickle module implicitly. It is possible to construct malicious pickle data which will execute arbitrary code during unpickling (See https://github.com/pytorch/pytorch/blob/main/SECURITY.md#untrusted-models for more details). In a future release, the default value for `weights_only` will be flipped to `True`. This limits the functions that could be executed during unpickling. Arbitrary objects will no longer be allowed to be loaded via this mode unless they are explicitly allowlisted by the user via `torch.serialization.add_safe_globals`. We recommend you start setting `weights_only=True` for any use case where you don't have full control of the loaded file. Please open an issue on GitHub for any issues related to this experimental feature.\n",
      "  vae_ensemble.load_state_dict(torch.load(\"best_vae_ensemble_model.pth\"))\n"
     ]
    },
    {
     "data": {
      "text/plain": [
       "VAEEnsemble(\n",
       "  (vae_models): ModuleList(\n",
       "    (0-2): 3 x VAE(\n",
       "      (encoder): Encoder(\n",
       "        (fc1): Linear(in_features=15, out_features=512, bias=True)\n",
       "        (fc2): Linear(in_features=512, out_features=256, bias=True)\n",
       "        (fc3): Linear(in_features=256, out_features=128, bias=True)\n",
       "        (fc_mean): Linear(in_features=128, out_features=100, bias=True)\n",
       "        (fc_log_var): Linear(in_features=128, out_features=100, bias=True)\n",
       "        (LeakyRelu): LeakyReLU(negative_slope=0.01)\n",
       "        (dropout): Dropout(p=0.3, inplace=False)\n",
       "      )\n",
       "      (decoder): Decoder(\n",
       "        (fc1): Linear(in_features=101, out_features=128, bias=True)\n",
       "        (fc2): Linear(in_features=128, out_features=256, bias=True)\n",
       "        (fc3): Linear(in_features=256, out_features=512, bias=True)\n",
       "        (fc_output): Linear(in_features=512, out_features=14, bias=True)\n",
       "        (lrelu): LeakyReLU(negative_slope=0.01)\n",
       "        (sigmoid): Sigmoid()\n",
       "        (dropout): Dropout(p=0.3, inplace=False)\n",
       "      )\n",
       "    )\n",
       "  )\n",
       ")"
      ]
     },
     "execution_count": 18,
     "metadata": {},
     "output_type": "execute_result"
    }
   ],
   "source": [
    "# Reinitialize the VAEEnsemble with the same number of models and dimensions\n",
    "num_models = 3  # Use the number of models you trained in the ensemble\n",
    "vae_ensemble = VAEEnsemble(num_models, input_dim, latent_dim, condition_dim)\n",
    "vae_ensemble.load_state_dict(torch.load(\"best_vae_ensemble_model.pth\"))\n",
    "vae_ensemble.eval()  # Set the ensemble model to evaluation mode\n",
    "vae_ensemble.to(device)\n"
   ]
  },
  {
   "cell_type": "code",
   "execution_count": 19,
   "metadata": {},
   "outputs": [
    {
     "name": "stdout",
     "output_type": "stream",
     "text": [
      "torch.Size([1000, 14])\n"
     ]
    }
   ],
   "source": [
    "import torch\n",
    "\n",
    "# Assuming you have `device` set, e.g., device = torch.device(\"cuda\" if torch.cuda.is_available() else \"cpu\")\n",
    "\n",
    "# Number of samples to generate\n",
    "num_samples = 1000\n",
    "\n",
    "# Sample from a standard normal distribution (mean=0, std=1) in the latent space\n",
    "z = torch.randn(num_samples, latent_dim).to(device)  # Ensure z is on the same device as the model\n",
    "\n",
    "# Provide conditional input if the model is conditional (e.g., class labels, other inputs)\n",
    "# Replace `condition_tensor` with appropriate conditional data for your problem\n",
    "conditions = torch.randint(0, condition_dim, (num_samples,)).to(device)  # Random class labels\n",
    "conditions = torch.nn.functional.one_hot(conditions, num_classes=condition_dim).float()  # One-hot encode if needed\n",
    "\n",
    "# Ensure the VAE is in evaluation mode\n",
    "vae.eval()\n",
    "\n",
    "# Generate synthetic data\n",
    "with torch.no_grad():  # Disable gradient computation\n",
    "    # Ensure the conditions are also on the same device as z and vae\n",
    "    conditions = conditions.to(device)\n",
    "    generated_data = vae.decoder(z, conditions)  # Use the decoder to generate data\n",
    "\n",
    "# `generated_data` is the output synthetic data, which you can use for further analysis, visualization, etc.\n",
    "print(generated_data.shape)  # Check the shape of the generated data\n"
   ]
  },
  {
   "cell_type": "code",
   "execution_count": 20,
   "metadata": {},
   "outputs": [
    {
     "name": "stdout",
     "output_type": "stream",
     "text": [
      "0     1.0\n",
      "1     1.0\n",
      "2     1.0\n",
      "3     1.0\n",
      "4     1.0\n",
      "     ... \n",
      "95    0.0\n",
      "96    1.0\n",
      "97    1.0\n",
      "98    1.0\n",
      "99    1.0\n",
      "Name: Feature_0, Length: 100, dtype: float32\n"
     ]
    },
    {
     "data": {
      "image/png": "[encoded data removed]",
      "text/plain": [
       "<Figure size 1000x600 with 1 Axes>"
      ]
     },
     "metadata": {},
     "output_type": "display_data"
    },
    {
     "data": {
      "image/png": "[encoded data removed]",
      "text/plain": [
       "<Figure size 1000x600 with 1 Axes>"
      ]
     },
     "metadata": {},
     "output_type": "display_data"
    }
   ],
   "source": [
    "import matplotlib.pyplot as plt\n",
    "import seaborn as sns\n",
    "import pandas as pd\n",
    "\n",
    "# Assuming you have real data (X_real) and generated data (X_generated) as NumPy arrays\n",
    "X_real_np = X_train_tensor.cpu().numpy()[:100]  # Sample 100 real data points\n",
    "X_generated_np = generated_data.cpu().numpy()[:100]  # Sample 100 generated data points\n",
    "\n",
    "# Convert to pandas DataFrame for easier plotting\n",
    "real_df = pd.DataFrame(X_real_np, columns=[f\"Feature_{i}\" for i in range(X_real_np.shape[1])])\n",
    "gen_df = pd.DataFrame(X_generated_np, columns=[f\"Feature_{i}\" for i in range(X_generated_np.shape[1])])\n",
    "\n",
    "# Plot the distributions of a single feature for both real and generated data\n",
    "feature_idx = 3  # Change this to plot a specific feature\n",
    "print(real_df[f\"Feature_0\"])\n",
    "plt.figure(figsize=(10, 6))\n",
    "sns.kdeplot(real_df[f\"Feature_{feature_idx}\"], label=\"Real Data\", color=\"blue\", fill=True, alpha=0.5)\n",
    "sns.kdeplot(gen_df[f\"Feature_{feature_idx}\"], label=\"Generated Data\", color=\"orange\", fill=True, alpha=0.5)\n",
    "plt.title(f\"Feature {feature_idx}: Real vs Generated Data Distribution\")\n",
    "plt.xlabel(\"Value\")\n",
    "plt.ylabel(\"Density\")\n",
    "plt.legend()\n",
    "plt.show()\n",
    "\n",
    "# Alternatively, scatter plot for two features\n",
    "plt.figure(figsize=(10, 6))\n",
    "plt.scatter(real_df[f\"Feature_0\"], real_df[f\"Feature_1\"], label=\"Real Data\", color=\"blue\", alpha=0.5)\n",
    "plt.scatter(gen_df[f\"Feature_0\"], gen_df[f\"Feature_1\"], label=\"Generated Data\", color=\"orange\", alpha=0.5)\n",
    "plt.title(\"Scatter Plot: Real vs Generated Data\")\n",
    "plt.xlabel(\"Feature 0\")\n",
    "plt.ylabel(\"Feature 1\")\n",
    "plt.legend()\n",
    "plt.show()\n"
   ]
  },
  {
   "cell_type": "code",
   "execution_count": 21,
   "metadata": {},
   "outputs": [
    {
     "name": "stdout",
     "output_type": "stream",
     "text": [
      "Reconstruction Loss (MSE): 0.474925696849823\n"
     ]
    }
   ],
   "source": [
    "from torch.nn.functional import mse_loss\n",
    "device = generated_data.device\n",
    "loss = mse_loss(generated_data[:100].to(device), X_train_tensor[:100].to(device),reduction='mean')\n",
    "print(f\"Reconstruction Loss (MSE): {loss.item()}\")"
   ]
  },
  {
   "cell_type": "code",
   "execution_count": null,
   "metadata": {},
   "outputs": [],
   "source": []
  }
 ],
 "metadata": {
  "kernelspec": {
   "display_name": "sih",
   "language": "python",
   "name": "python3"
  },
  "language_info": {
   "codemirror_mode": {
    "name": "ipython",
    "version": 3
   },
   "file_extension": ".py",
   "mimetype": "text/x-python",
   "name": "python",
   "nbconvert_exporter": "python",
   "pygments_lexer": "ipython3",
   "version": "3.12.7"
  }
 },
 "nbformat": 4,
 "nbformat_minor": 2
}
