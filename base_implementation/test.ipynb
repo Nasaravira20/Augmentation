{
 "cells": [
  {
   "cell_type": "code",
   "execution_count": 1,
   "metadata": {},
   "outputs": [],
   "source": [
    "from wikidata.client import Client\n",
    "from SPARQLWrapper import SPARQLWrapper, JSON\n",
    "client = Client()\n"
   ]
  },
  {
   "cell_type": "code",
   "execution_count": 2,
   "metadata": {},
   "outputs": [],
   "source": [
    "\n",
    "def search_entity(text):\n",
    "    \"\"\"\n",
    "    Search for a Wikidata entity by label using SPARQL.\n",
    "    \"\"\"\n",
    "    endpoint_url = \"https://query.wikidata.org/sparql\"\n",
    "    query = f\"\"\"\n",
    "    SELECT ?item ?itemLabel WHERE {{\n",
    "        ?item rdfs:label \"{text}\"@en.\n",
    "        SERVICE wikibase:label {{ bd:serviceParam wikibase:language \"en\". }}\n",
    "    }}\n",
    "    LIMIT 1\n",
    "    \"\"\"\n",
    "    sparql = SPARQLWrapper(endpoint_url)\n",
    "    sparql.setQuery(query)\n",
    "    sparql.setReturnFormat(JSON)\n",
    "    results = sparql.query().convert()\n",
    "\n",
    "    # Return the first matching entity\n",
    "    bindings = results.get(\"results\", {}).get(\"bindings\", [])\n",
    "    if bindings:\n",
    "        return bindings[0][\"item\"][\"value\"].split(\"/\")[-1]  # Extract QID\n",
    "    else:\n",
    "        return None"
   ]
  },
  {
   "cell_type": "code",
   "execution_count": 3,
   "metadata": {},
   "outputs": [
    {
     "data": {
      "text/plain": [
       "m'large terrestrial mammals with trunks from Africa and Asia'"
      ]
     },
     "execution_count": 3,
     "metadata": {},
     "output_type": "execute_result"
    }
   ],
   "source": [
    "qid = search_entity('elephant')\n",
    "client.get(qid).description"
   ]
  },
  {
   "cell_type": "code",
   "execution_count": 4,
   "metadata": {},
   "outputs": [],
   "source": [
    "def get_entity_attributes(qid):\n",
    "    \"\"\"\n",
    "    Retrieve all attributes (properties and their values) from Wikidata for a given entity QID.\n",
    "    \"\"\"\n",
    "    client = Client()\n",
    "    try:\n",
    "        # Fetch the entity\n",
    "        entity = client.get(qid, load=True)\n",
    "        attributes = {}\n",
    "\n",
    "        # Parse the claims (properties) of the entity\n",
    "        for prop_id, prop_values in entity.data['claims'].items():\n",
    "            prop_entity = client.get(prop_id)  # Property entity\n",
    "            # Extract the English label of the property\n",
    "            prop_label = prop_entity.label.get(\"en\", f\"Property {prop_id}\").lower()\n",
    "\n",
    "            # Initialize the list of values for this property\n",
    "            attributes[prop_label] = []\n",
    "\n",
    "            # Extract values for this property\n",
    "            for val in prop_values:\n",
    "                value = val.get('mainsnak', {}).get('datavalue', {}).get('value')\n",
    "                if isinstance(value, dict) and 'id' in value:\n",
    "                    # If value is a linked entity, resolve its English label\n",
    "                    value = client.get(value['id']).label.get(\"en\", \"Unknown\")\n",
    "                attributes[prop_label].append(value)\n",
    "\n",
    "        return attributes\n",
    "\n",
    "    except Exception as e:\n",
    "        return {\"error\": str(e)}"
   ]
  },
  {
   "cell_type": "code",
   "execution_count": 5,
   "metadata": {},
   "outputs": [
    {
     "data": {
      "text/plain": [
       "{'unicode character': ['🐘'],\n",
       " 'instance of': ['organisms known by a particular common name'],\n",
       " 'image': ['African Bush Elephant.jpg',\n",
       "  \"L'éléphant de forêt d'Afrique (Loxodonta cyclotis).jpg\",\n",
       "  'Elephant 2024.jpg'],\n",
       " \"topic's main category\": ['Category:Elephants'],\n",
       " 'freebase id': ['/m/0bwd_0j'],\n",
       " 'gnd id': ['4140579-1'],\n",
       " 'new york times topic id': ['subject/elephants'],\n",
       " 'wall street journal topic id': ['subject/E/Elephants/2544'],\n",
       " 'quora topic id': ['Elephants'],\n",
       " 'jstor topic id (archived)': ['elephants', 'elephant-hunting'],\n",
       " 'color': ['grey'],\n",
       " 'omegawiki defined meaning': ['5643'],\n",
       " 'u.s. national archives identifier': ['10645540'],\n",
       " 'babelnet id': ['00030314n'],\n",
       " 'commons category': ['Elephants'],\n",
       " 'encyclopædia universalis id': ['elephant'],\n",
       " 'banglapedia id (english)': ['Elephant'],\n",
       " 'subreddit': ['Elephants'],\n",
       " 'asc leiden thesaurus id': ['294909680'],\n",
       " 'giant bomb id': ['3015-2336'],\n",
       " 'klexikon article id': ['Elefanten'],\n",
       " 'library of congress authority id': ['sh85042531'],\n",
       " 'has part(s)': [\"elephant's trunk\", 'elephant tusk'],\n",
       " 'subclass of': ['mammal'],\n",
       " 'australian educational vocabulary id': ['scot/5666'],\n",
       " 'gran enciclopèdia catalana id (former scheme)': ['0100708'],\n",
       " 'pactols thesaurus id': ['pcrth4ik1YqDS1'],\n",
       " 'related category': ['Category:Songs about elephants'],\n",
       " 'larousse id': ['divers/wd/46355'],\n",
       " 'height': [{'amount': '+4', 'unit': 'http://www.wikidata.org/entity/Q11573'}],\n",
       " 'kbpedia id': ['Elephant'],\n",
       " 'described by source': ['Gujin Tushu Jicheng',\n",
       "  'The Nuttall Encyclopædia',\n",
       "  'Metropolitan Museum of Art Tagging Vocabulary',\n",
       "  'Paulys Realenzyklopädie der klassischen Altertumswissenschaft',\n",
       "  'Encyclopædia Britannica 11th edition'],\n",
       " 'yso id': ['20384'],\n",
       " 'daum encyclopedia id': ['b21k2726a'],\n",
       " 'naver encyclopedia id': ['1149921'],\n",
       " 'bbc news topic id': ['c1xp19dg2pzt'],\n",
       " 'bbc things id': ['1b76d012-98a4-48f2-9d98-a653b7a04179'],\n",
       " 'taxon common name': [{'text': 'Elephant', 'language': 'en'},\n",
       "  {'text': 'Éléphant', 'language': 'fr'},\n",
       "  {'text': 'Elefant', 'language': 'de'},\n",
       "  {'text': 'Elefante', 'language': 'it'},\n",
       "  {'text': 'Ελέφαντας', 'language': 'el'},\n",
       "  {'text': 'हाथी', 'language': 'hi'},\n",
       "  {'text': 'ゾウ', 'language': 'ja'},\n",
       "  {'text': '코끼리', 'language': 'ko'},\n",
       "  {'text': 'Слон', 'language': 'ru'},\n",
       "  {'text': 'ช้าง', 'language': 'th'},\n",
       "  {'text': 'गजः', 'language': 'sa'},\n",
       "  {'text': 'فيل', 'language': 'ar'},\n",
       "  {'text': 'Gajah', 'language': 'id'},\n",
       "  {'text': 'Слон', 'language': 'uk'},\n",
       "  {'text': '象', 'language': 'zh-cn'},\n",
       "  {'text': 'Voi', 'language': 'vi'},\n",
       "  {'text': 'ہاتھی', 'language': 'ur'},\n",
       "  {'text': '象', 'language': 'wuu'},\n",
       "  {'text': 'யானை', 'language': 'ta'},\n",
       "  {'text': 'ఏనుగు', 'language': 'te'},\n",
       "  {'text': 'ആന', 'language': 'ml'},\n",
       "  {'text': 'Fil', 'language': 'tr'},\n",
       "  {'text': 'Փղեր', 'language': 'hy'},\n",
       "  {'text': 'slon', 'language': 'cs'},\n",
       "  {'text': 'elefant', 'language': 'ro'},\n",
       "  {'text': 'slon', 'language': 'sl'},\n",
       "  {'text': 'Ajinakú geli', 'language': 'fon'}],\n",
       " 'colon classification': ['KX447'],\n",
       " 'yle topic id': ['18-219440'],\n",
       " 'pronunciation audio': ['Q7378-ar.ogg'],\n",
       " 'category for the view of the item': ['Category:Views of elephants'],\n",
       " 'icd-11 id (foundation)': ['999815974'],\n",
       " 'icd-11 id (mms)': ['XE2Q6'],\n",
       " 'know your meme id': ['17556'],\n",
       " 'montage image': ['Elephant Diversity.jpg'],\n",
       " 'uk parliament thesaurus id': ['9901'],\n",
       " 'encyclopédie berbère article id': ['2134'],\n",
       " 'ysa id': ['Y103688'],\n",
       " 'nalt id': ['36259'],\n",
       " 'j9u id': ['987007540851005171'],\n",
       " 'has characteristic': ['elephant cognition'],\n",
       " 'has list': ['list of individual elephants'],\n",
       " 'wordnet 3.1 synset id': ['02506148-n'],\n",
       " 'nl cr aut id': ['ph187977', 'ph430276'],\n",
       " 'main food source': ['plant'],\n",
       " 'described at url': ['https://neal.fun/earth-reviews/elephants'],\n",
       " 'golden id': ['Elephant-PRB5'],\n",
       " 'fandom wiki id': ['elefanten'],\n",
       " 'national historical museums of sweden id': ['term/70adbbb8-96b8-451d-b41a-63aa8505cb99'],\n",
       " 'said to be the same as': ['Unknown'],\n",
       " 'taxon range map image': ['Loxodonta Elephas distribution.png'],\n",
       " 'different from': ['Elefant', 'Fil'],\n",
       " 'social media followers': [{'amount': '+26441', 'unit': '1'}],\n",
       " 'encyclopedia of korean culture id': ['E0058624'],\n",
       " 'female form of label': [{'text': 'slonica', 'language': 'sl'}],\n",
       " 'mascot': ['Republican Elephant'],\n",
       " 'page banner': ['Elephants banner.jpg'],\n",
       " 'wikikids id': ['Olifanten'],\n",
       " 'gran enciclopèdia catalana id': ['elefant-3'],\n",
       " 'vikidia article id': ['en:Elephant',\n",
       "  'it:Elefante',\n",
       "  'es:Elefante',\n",
       "  'eu:Elefante',\n",
       "  'fr:Éléphant'],\n",
       " 'fandom article id': ['omniversal-battlefield:Elephant',\n",
       "  'memory-alpha:Elephant',\n",
       "  'de.memory-alpha:Elefant',\n",
       "  'memory-beta:Elephant'],\n",
       " 'concepticon concept set id': ['1290'],\n",
       " 'france 24 topic id (french)': ['éléphant'],\n",
       " 'taxon known by this common name': ['Elephantidae',\n",
       "  'Asian elephant',\n",
       "  'Loxodonta africana']}"
      ]
     },
     "execution_count": 5,
     "metadata": {},
     "output_type": "execute_result"
    }
   ],
   "source": [
    "get_entity_attributes(qid)"
   ]
  },
  {
   "cell_type": "code",
   "execution_count": 6,
   "metadata": {},
   "outputs": [],
   "source": [
    "import networkx as nx\n",
    "from wikidata.client import Client\n",
    "\n",
    "# altair\n",
    "#sns\n",
    "\n",
    "# Function to retrieve visual attributes and create graph\n",
    "def get_visual_attributes_graph(qid):\n",
    "    \"\"\"\n",
    "    Retrieve visual attributes (like color, shape) from Wikidata for a given entity QID\n",
    "    and create a graph representation.\n",
    "    \"\"\"\n",
    "    client = Client()\n",
    "    G = nx.Graph()  # Create a graph\n",
    "\n",
    "    try:\n",
    "        # Fetch the entity from Wikidata\n",
    "        entity = client.get(qid, load=True)\n",
    "        \n",
    "        # Add the entity as a node\n",
    "        entity_label = entity.label.get(\"en\", f\"Entity {qid}\")\n",
    "        G.add_node(entity_label, type='entity')\n",
    "\n",
    "        # Parse the claims (properties) of the entity\n",
    "        for prop_id, prop_values in entity.data['claims'].items():\n",
    "            prop_entity = client.get(prop_id)  # Property entity\n",
    "            \n",
    "            prop_label = prop_entity.label.get(\"en\", f\"Property {prop_id}\").lower()\n",
    "\n",
    "            # Filter visual attributes like color, shape, texture, etc.\n",
    "            if 'color' in prop_label or 'shape' in prop_label or 'texture' in prop_label:\n",
    "                # Create a property node and add it as an edge to the entity\n",
    "                G.add_node(prop_label, type='property')\n",
    "                G.add_edge(entity_label, prop_label)\n",
    "\n",
    "                # Add the values to the property node\n",
    "                values = []\n",
    "                for val in prop_values:\n",
    "                    value = val.get('mainsnak', {}).get('datavalue', {}).get('value')\n",
    "                    if isinstance(value, dict) and 'id' in value:\n",
    "                        linked_entity = client.get(value['id'])\n",
    "                        value = linked_entity.label.get(\"en\", \"Unknown\")\n",
    "                    values.append(value)\n",
    "\n",
    "                # Print the values for debugging\n",
    "                print(f\"Property: {prop_label}, Values: {values}\")\n",
    "\n",
    "                # Use add_node to explicitly set the 'values' attribute for the property node\n",
    "                G.add_node(prop_label, values=values[0])  # Create or update the node with values\n",
    "                G.add_edge(prop_label, value) \n",
    "\n",
    "        return G\n",
    "\n",
    "    except Exception as e:\n",
    "        return {\"error\": str(e)}\n",
    "\n"
   ]
  },
  {
   "cell_type": "code",
   "execution_count": 7,
   "metadata": {},
   "outputs": [],
   "source": [
    "import matplotlib.pyplot as plt\n",
    "import networkx as nx\n",
    "\n",
    "# Function to visualize the graph\n",
    "import matplotlib.pyplot as plt\n",
    "import networkx as nx\n",
    "\n",
    "def visualize_graph(graph):\n",
    "    plt.figure(figsize=(12, 12))\n",
    "\n",
    "    # Assign colors to all nodes\n",
    "    node_colors = []\n",
    "    for node, data in graph.nodes(data=True):\n",
    "        if data.get('type') == 'entity':\n",
    "            node_colors.append('lightblue')  # Entity nodes in blue\n",
    "        elif data.get('type') == 'property':\n",
    "            node_colors.append('lightgreen')  # Property nodes in green\n",
    "        elif data.get('type') == 'color_value':\n",
    "            node_colors.append('gray')  # Color value nodes in gray\n",
    "        else:\n",
    "            node_colors.append('white')  # Default color for unspecified types\n",
    "\n",
    "    # Generate consistent layout\n",
    "    pos = nx.spring_layout(graph, seed=42)\n",
    "\n",
    "    # Draw the graph\n",
    "    nx.draw(\n",
    "        graph,\n",
    "        pos,\n",
    "        with_labels=True,\n",
    "        node_size=2000,\n",
    "        node_color=node_colors,\n",
    "        font_size=10,\n",
    "        font_weight='bold',\n",
    "        edge_color='gray',\n",
    "    )\n",
    "\n",
    "    plt.title(\"Entity Visual Attributes Graph\")\n",
    "    plt.show()\n",
    "\n",
    "\n"
   ]
  },
  {
   "cell_type": "code",
   "execution_count": 8,
   "metadata": {},
   "outputs": [],
   "source": [
    "def graph_height(G):\n",
    "    # Get the longest shortest path in the graph (diameter of the graph)\n",
    "    lengths = nx.single_source_shortest_path_length(G, list(G.nodes())[0])  # Start from the first node\n",
    "    max_length = max(lengths.values())\n",
    "    \n",
    "    print(f\"Height of the graph (longest path): {max_length}\")\n",
    "    return max_length\n",
    "\n",
    "\n",
    "\n"
   ]
  },
  {
   "cell_type": "code",
   "execution_count": 14,
   "metadata": {},
   "outputs": [
    {
     "name": "stdout",
     "output_type": "stream",
     "text": [
      "Property: color, Values: ['grey']\n",
      "Height of the graph (longest path): 2\n"
     ]
    },
    {
     "data": {
      "image/png": "[encoded data removed]",
      "text/plain": [
       "<Figure size 1200x1200 with 1 Axes>"
      ]
     },
     "metadata": {},
     "output_type": "display_data"
    }
   ],
   "source": [
    "qid = search_entity('elephant')\n",
    "graph = get_visual_attributes_graph(qid)\n",
    "graph_height(graph)\n",
    "visualize_graph(graph)"
   ]
  },
  {
   "cell_type": "code",
   "execution_count": 9,
   "metadata": {},
   "outputs": [],
   "source": [
    "qid = search_entity('parrot')\n"
   ]
  },
  {
   "cell_type": "code",
   "execution_count": 10,
   "metadata": {},
   "outputs": [],
   "source": [
    "graph = get_visual_attributes_graph(qid)\n"
   ]
  },
  {
   "cell_type": "code",
   "execution_count": 13,
   "metadata": {},
   "outputs": [
    {
     "name": "stdout",
     "output_type": "stream",
     "text": [
      "Height of the graph (longest path): 0\n"
     ]
    },
    {
     "data": {
      "image/png": "[encoded data removed]",
      "text/plain": [
       "<Figure size 1200x1200 with 1 Axes>"
      ]
     },
     "metadata": {},
     "output_type": "display_data"
    }
   ],
   "source": [
    "graph_height(graph)\n",
    "visualize_graph(graph)\n",
    "\n"
   ]
  },
  {
   "cell_type": "code",
   "execution_count": 12,
   "metadata": {},
   "outputs": [
    {
     "ename": "NameError",
     "evalue": "name 'entity' is not defined",
     "output_type": "error",
     "traceback": [
      "\u001b[0;31m---------------------------------------------------------------------------\u001b[0m",
      "\u001b[0;31mNameError\u001b[0m                                 Traceback (most recent call last)",
      "Cell \u001b[0;32mIn[12], line 1\u001b[0m\n\u001b[0;32m----> 1\u001b[0m \u001b[38;5;28;01mfor\u001b[39;00m prop \u001b[38;5;129;01min\u001b[39;00m \u001b[43mentity\u001b[49m\u001b[38;5;241m.\u001b[39mproperties:\n\u001b[1;32m      2\u001b[0m     \u001b[38;5;28mprint\u001b[39m(prop, entity[\u001b[38;5;124m'\u001b[39m\u001b[38;5;124mprop\u001b[39m\u001b[38;5;124m'\u001b[39m], end\u001b[38;5;241m=\u001b[39m\u001b[38;5;124m'\u001b[39m\u001b[38;5;130;01m\\n\u001b[39;00m\u001b[38;5;124m'\u001b[39m)  \u001b[38;5;66;03m# Prints: \"P31\", \"P105\", etc.\u001b[39;00m\n",
      "\u001b[0;31mNameError\u001b[0m: name 'entity' is not defined"
     ]
    }
   ],
   "source": [
    "for prop in entity.properties:\n",
    "    print(prop, entity['prop'], end='\\n')  # Prints: \"P31\", \"P105\", etc."
   ]
  }
 ],
 "metadata": {
  "kernelspec": {
   "display_name": "research",
   "language": "python",
   "name": "python3"
  },
  "language_info": {
   "codemirror_mode": {
    "name": "ipython",
    "version": 3
   },
   "file_extension": ".py",
   "mimetype": "text/x-python",
   "name": "python",
   "nbconvert_exporter": "python",
   "pygments_lexer": "ipython3",
   "version": "3.12.8"
  }
 },
 "nbformat": 4,
 "nbformat_minor": 2
}
